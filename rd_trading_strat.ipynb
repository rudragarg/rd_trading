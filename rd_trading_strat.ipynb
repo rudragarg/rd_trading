{
 "cells": [
  {
   "cell_type": "code",
   "execution_count": 1,
   "metadata": {},
   "outputs": [],
   "source": [
    "import pandas as pd\n",
    "import numpy as np\n",
    "from pandas.tseries.offsets import MonthEnd\n",
    "import statsmodels.api as sm\n",
    "import math\n",
    "import matplotlib.pyplot as plt"
   ]
  },
  {
   "cell_type": "code",
   "execution_count": 2,
   "metadata": {},
   "outputs": [],
   "source": [
    "def clean_fundamentals(fundamentals):\n",
    "    fundamentals = fundamentals[(fundamentals[\"exchg\"]>=11) & (fundamentals[\"exchg\"]<=19)]\n",
    "    fundamentals = fundamentals[fundamentals[\"curcd\"] == \"USD\"]\n",
    "    fundamentals = fundamentals[fundamentals[\"indfmt\"] == \"INDL\"]\n",
    "    fundamentals = fundamentals[fundamentals[\"fic\"] == \"USA\"]\n",
    "    fundamentals = fundamentals[(fundamentals[\"sic\"] <= 5999) | (fundamentals[\"sic\"] >= 7000)]\n",
    "\n",
    "    fundamentals['datadate'] = pd.to_datetime(fundamentals['datadate'])\n",
    "\n",
    "    fundamentals['datadate'] = fundamentals['datadate'] + pd.DateOffset(months=3)\n",
    "\n",
    "    fundamentals['year'] = fundamentals['datadate'].dt.year\n",
    "\n",
    "    fundamentals['xrd'] = fundamentals['xrd'].fillna(0)\n",
    "\n",
    "    fundamentals = fundamentals.sort_values(by=['datadate','LPERMNO']).reset_index(drop=True)\n",
    "\n",
    "    return fundamentals"
   ]
  },
  {
   "cell_type": "code",
   "execution_count": 3,
   "metadata": {},
   "outputs": [],
   "source": [
    "def clean_stocks(stocks_input):\n",
    "    \n",
    "    stocks = stocks_input.copy()\n",
    "    stocks = stocks[pd.to_numeric(stocks['RET'], errors='coerce').notnull()]\n",
    "\n",
    "    stocks['RET'] = pd.to_numeric(stocks['RET'])\n",
    "\n",
    "    stocks[\"date\"] = pd.to_datetime(stocks[\"date\"])\n",
    "\n",
    "    stocks = stocks[(stocks[\"RET\"] < 500)]\n",
    "\n",
    "    stocks = stocks[(stocks[\"RET\"] > -100)]\n",
    "\n",
    "    stocks = stocks[(stocks[\"SHROUT\"] > 0)]\n",
    "\n",
    "    stocks[\"PRC\"] = abs(stocks[\"PRC\"])\n",
    "\n",
    "    stocks[\"PRC\"] = stocks[\"PRC\"].replace({0:np.nan})\n",
    "\n",
    "    stocks[\"SHROUT\"] = stocks[\"SHROUT\"].fillna(method=\"ffill\")\n",
    "\n",
    "    stocks = stocks.dropna(subset=[\"SHROUT\", \"PRC\"])\n",
    "\n",
    "    stocks[\"Market Cap\"] = stocks[\"PRC\"] * stocks[\"SHROUT\"]\n",
    "\n",
    "    stocks.rename({\"date\": \"datadate\", \"PERMNO\":\"LPERMNO\"}, axis=1, inplace=True)\n",
    "\n",
    "    stocks['datadate'] = stocks['datadate'] + MonthEnd(0)\n",
    "\n",
    "    stocks[\"year\"] = [i.year if i >= pd.Timestamp(year=i.year, month=4, day=1) else i.year-1 for i in stocks[\"datadate\"]]\n",
    "\n",
    "    return stocks"
   ]
  },
  {
   "cell_type": "code",
   "execution_count": 4,
   "metadata": {},
   "outputs": [],
   "source": [
    "def get_rd_capital(fundamentals):\n",
    "\n",
    "    weights = np.array([0.2, 0.4, 0.6, 0.8, 1.0])\n",
    "\n",
    "    rd_cap = fundamentals.groupby(\"LPERMNO\")[\"xrd\"].rolling(5).apply(lambda x: np.sum(weights*x)).reset_index(level=[0,1])[[\"level_1\", \"xrd\"]].set_index('level_1').rename(columns={\"xrd\": \"RDC\"})\n",
    "\n",
    "    fundamentals = pd.merge(fundamentals, rd_cap, left_index=True, right_index=True)\n",
    "\n",
    "    fundamentals = fundamentals.dropna(subset=['RDC'])\n",
    "    fundamentals = fundamentals[[\"LPERMNO\", \"datadate\", \"RDC\"]]\n",
    "\n",
    "    return fundamentals"
   ]
  },
  {
   "cell_type": "code",
   "execution_count": 5,
   "metadata": {},
   "outputs": [],
   "source": [
    "def split_rd_firms(fundamentals):\n",
    "    \n",
    "    non_rd_firms_fund = fundamentals[fundamentals[\"RDC\"] == 0].copy()\n",
    "    rd_firms_fund = fundamentals[fundamentals[\"RDC\"] > 0].copy()\n",
    "\n",
    "    rd_firms_fund[\"datadate\"] = [pd.Timestamp(year=i.year+1,month=3, day=31) if i > pd.Timestamp(year=i.year, month=4, day=1) else pd.Timestamp(year=i.year,month=3, day=31)  for i in rd_firms_fund[\"datadate\"]]\n",
    "    non_rd_firms_fund[\"datadate\"] = [pd.Timestamp(year=i.year+1,month=3, day=31) if i > pd.Timestamp(year=i.year, month=4, day=1) else pd.Timestamp(year=i.year,month=3, day=31)  for i in non_rd_firms_fund[\"datadate\"]]\n",
    "\n",
    "    return rd_firms_fund, non_rd_firms_fund"
   ]
  },
  {
   "cell_type": "code",
   "execution_count": 6,
   "metadata": {},
   "outputs": [],
   "source": [
    "def merge_stock_fundamentals(rd_firms_fund, non_rd_firms_fund, stocks):\n",
    "    rd_firms = pd.merge(stocks[[\"datadate\", \"Market Cap\", \"LPERMNO\"]], rd_firms_fund, on = [\"LPERMNO\", \"datadate\"], how=\"right\")\n",
    "    non_rd_firms = pd.merge(stocks[[\"datadate\", \"Market Cap\", \"LPERMNO\"]], non_rd_firms_fund, on = [\"LPERMNO\", \"datadate\"], how=\"right\")\n",
    "\n",
    "    rd_firms.dropna(inplace=True)\n",
    "    non_rd_firms.dropna(inplace=True)\n",
    "    \n",
    "    return rd_firms, non_rd_firms\n"
   ]
  },
  {
   "cell_type": "code",
   "execution_count": 7,
   "metadata": {},
   "outputs": [],
   "source": [
    "def remove_top_1000(rd_firms_in, non_rd_firms_in):\n",
    "\n",
    "        rd_firms_in['id'] = [\"rd-\"+str(i) for i in range(rd_firms_in.shape[0])]\n",
    "        non_rd_firms_in['id'] = [\"nonrd-\"+str(i) for i in range(non_rd_firms_in.shape[0])]\n",
    "        firms = pd.concat([rd_firms_in, non_rd_firms_in])\n",
    "        \n",
    "        temp_1 = firms.reset_index(drop=True).sort_values('Market Cap',ascending = False)\n",
    "        temp_2 = temp_1.groupby(\"year\").head(1000).sort_values(\"year\") \n",
    "\n",
    "        top_firms = temp_1[temp_1.index.isin(temp_2.index)]\n",
    "\n",
    "        removed_top_rd = rd_firms_in[~rd_firms_in[\"id\"].isin(top_firms[\"id\"])]\n",
    "        \n",
    "        removed_top_non_rd = non_rd_firms_in[~non_rd_firms_in[\"id\"].isin(top_firms[\"id\"])]   \n",
    "\n",
    "\n",
    "        return removed_top_rd, removed_top_non_rd    \n",
    "\n",
    "\n",
    "def bin_firms(rd_firms, non_rd_firms, remove_1000=False):\n",
    "\n",
    "    if remove_1000:\n",
    "        rd_firms, non_rd_firms = remove_top_1000(rd_firms.copy(), non_rd_firms.copy())\n",
    "\n",
    "\n",
    "    rd_firms[\"RDC/Market Cap\"] = rd_firms[\"RDC\"] / rd_firms[\"Market Cap\"]\n",
    "    rd_firms['bins'] = rd_firms.groupby(['datadate'])['RDC/Market Cap'].transform(lambda x: pd.qcut(x, 5, labels=[\"L\", \"2\", \"3\", \"4\", \"H\"]))\n",
    "    rd_firms[\"year\"] = rd_firms[\"datadate\"].dt.year\n",
    "    non_rd_firms[\"year\"] = non_rd_firms[\"datadate\"].dt.year\n",
    "    non_rd_firms[\"bins\"] = \"Non R&D\"\n",
    "\n",
    "    firms = pd.concat([rd_firms, non_rd_firms])\n",
    "\n",
    "    return firms, rd_firms, non_rd_firms\n",
    "    \n",
    "   "
   ]
  },
  {
   "cell_type": "code",
   "execution_count": 45,
   "metadata": {},
   "outputs": [],
   "source": [
    "def get_monthly_returns(firms, stocks, value_weighted = True):\n",
    "\n",
    "    stocks[\"Market Cap Shifted\"] = stocks.groupby([\"LPERMNO\"])[\"Market Cap\"].shift(1)\n",
    "    stocks.dropna(subset=[\"Market Cap Shifted\"], inplace=True)\n",
    "    \n",
    "    stocks_w_bins = pd.merge(stocks, firms[[\"LPERMNO\", \"bins\", \"year\"]], on=[\"LPERMNO\", \"year\"], how=\"inner\")\n",
    "\n",
    "    \n",
    "\n",
    "    if value_weighted:\n",
    "        \n",
    "        # stocks_w_bins[\"Market Cap Shifted\"] = stocks_w_bins.groupby([\"LPERMNO\"])[\"Market Cap\"].shift(1)\n",
    "        # stocks_w_bins.dropna(subset=[\"Market Cap Shifted\"], inplace=True)\n",
    "        \n",
    "        stocks_w_bins = pd.merge(stocks_w_bins, stocks_w_bins.groupby([\"datadate\", \"bins\"])[\"Market Cap Shifted\"].sum().reset_index(), on=[\"datadate\", \"bins\"], how=\"inner\").rename({\"Market Cap Shifted_y\": \"Sum Market Cap Shifted\", \"Market Cap Shifted_x\": \"Market Cap Shifted\"}, axis=1)\n",
    "        stocks_w_bins[\"weight\"] = stocks_w_bins[\"Market Cap Shifted\"] / stocks_w_bins[\"Sum Market Cap Shifted\"]\n",
    "        stocks_w_bins[\"stock return\"] = stocks_w_bins[\"RET\"] * stocks_w_bins[\"weight\"]\n",
    "\n",
    "        monthly_returns = stocks_w_bins.groupby([\"datadate\",\"bins\"])[\"stock return\"].sum().reset_index()\n",
    "\n",
    "\n",
    "    else:\n",
    "        stocks_w_bins = pd.merge(stocks_w_bins, stocks_w_bins.groupby([\"datadate\", \"bins\"])[\"RET\"].count().reset_index().rename({\"RET\":\"Count in Bin for Month\"}, axis=1))\n",
    "        stocks_w_bins[\"equal weight\"] = 1 /stocks_w_bins[\"Count in Bin for Month\"] \n",
    "        stocks_w_bins[\"stock return\"] = stocks_w_bins[\"RET\"] * stocks_w_bins[\"equal weight\"]\n",
    "    \n",
    "    monthly_returns = stocks_w_bins.groupby([\"datadate\",\"bins\"])[\"stock return\"].sum().reset_index()    \n",
    "    return monthly_returns, stocks_w_bins"
   ]
  },
  {
   "cell_type": "code",
   "execution_count": 46,
   "metadata": {},
   "outputs": [],
   "source": [
    "def clean_fama_french(fama_french):\n",
    "    fama_french[\"Date\"] = pd.to_datetime(fama_french[\"Date\"])\n",
    "    fama_french[\"Date\"] = fama_french[\"Date\"] + MonthEnd(0)\n",
    "\n",
    "    return fama_french\n",
    "\n",
    "def get_excess_returns(monthly_returns, fama_french):\n",
    "    monthly_returns = pd.merge(monthly_returns, fama_french[[\"Date\", \"RF\"]], left_on=[\"datadate\"], right_on=[\"Date\"])\n",
    "    monthly_returns[\"Excess Returns\"] = monthly_returns[\"stock return\"] - monthly_returns[\"RF\"]\n",
    "    monthly_returns[\"Excess Returns\"] = monthly_returns[\"Excess Returns\"] * 100\n",
    "    \n",
    "    return monthly_returns\n",
    "    "
   ]
  },
  {
   "cell_type": "code",
   "execution_count": 47,
   "metadata": {},
   "outputs": [],
   "source": [
    "def get_results(monthly_returns):\n",
    "    \n",
    "    order = [\"L\", \"2\", \"3\", \"4\", \"H\", \"Non R&D\"]\n",
    "\n",
    "    first_period = pd.Timestamp(year=1981, month=7, day=1)\n",
    "    mid_period = pd.Timestamp(year=1999, month=12, day=31)\n",
    "    last_period = pd.Timestamp(year=2012, month=12, day=31)\n",
    "    extra_period = pd.Timestamp(year=2021, month=12, day=31)\n",
    "\n",
    "\n",
    "    full_period = monthly_returns[(monthly_returns[\"datadate\"] >= first_period) & (monthly_returns[\"datadate\"] <= last_period)].groupby(\"bins\")[\"Excess Returns\"].mean()[order]\n",
    "    pre_2000 = monthly_returns[(monthly_returns[\"datadate\"] >= first_period) & (monthly_returns[\"datadate\"] <= mid_period)].groupby(\"bins\")[\"Excess Returns\"].mean()[order]\n",
    "    post_2000 = monthly_returns[(monthly_returns[\"datadate\"] > mid_period) & (monthly_returns[\"datadate\"] <= last_period)].groupby(\"bins\")[\"Excess Returns\"].mean()[order]\n",
    "    extra = monthly_returns[(monthly_returns[\"datadate\"] >= first_period) & (monthly_returns[\"datadate\"] <= extra_period)].groupby(\"bins\")[\"Excess Returns\"].mean()[order]\n",
    "\n",
    "    columns=['L', '2', '3', '4', 'H', 'Non R&D']\n",
    "\n",
    "    \n",
    "\n",
    "    results = pd.DataFrame({c: pd.Series(dtype=\"float\") for c in columns})\n",
    "\n",
    "    results.loc[len(results.index)] = full_period\n",
    "    results.loc[len(results.index)] = pre_2000\n",
    "    results.loc[len(results.index)] = post_2000\n",
    "    results.loc[len(results.index)] = extra\n",
    "\n",
    "    results.index = [\"Full period\", \"Pre 2000\", \"Post 2000\", \"Full Through Dec 2021\"]\n",
    "\n",
    "    return results.round(3)"
   ]
  },
  {
   "cell_type": "code",
   "execution_count": 48,
   "metadata": {},
   "outputs": [],
   "source": [
    "def clean_data(stocks_raw, fundamentals_raw, fama_french_raw):\n",
    "    stocks = clean_stocks(stocks_raw)\n",
    "    fundamentals = clean_fundamentals(fundamentals_raw)\n",
    "    fama_french = clean_fama_french(fama_french_raw)\n",
    "\n",
    "    return stocks, fundamentals, fama_french\n",
    "    \n"
   ]
  },
  {
   "cell_type": "code",
   "execution_count": 49,
   "metadata": {},
   "outputs": [],
   "source": [
    "def run_regressions_and_sharpe(fama_french, monthly_returns_in):\n",
    "\n",
    "    monthly_returns = pd.pivot_table(monthly_returns_in, values='Excess Returns', index=['datadate'],columns=['bins'])\n",
    "    first_period = pd.Timestamp(year=1981, month=7, day=1)\n",
    "    last_period = pd.Timestamp(year=2012, month=12, day=31)\n",
    "\n",
    "   \n",
    "    monthly_returns[\"HmL\"] = monthly_returns[\"H\"] - monthly_returns[\"L\"]\n",
    "\n",
    "    ff_factors_monthly = fama_french[(fama_french[\"Date\"] >= first_period) & (fama_french[\"Date\"] <= last_period)]\n",
    "\n",
    "    \n",
    "\n",
    "\n",
    "    factors = [\"Mkt-RF\"]\n",
    "        \n",
    "    y = monthly_returns[(monthly_returns.index >= first_period) & (monthly_returns.index <= last_period)][\"HmL\"].dropna()\n",
    "    remove_dates_X = list(set(ff_factors_monthly[\"Date\"])- set(y.index))\n",
    "\n",
    "    X_df = ff_factors_monthly[~ff_factors_monthly[\"Date\"].isin(remove_dates_X)]\n",
    "   \n",
    "    \n",
    "    print(\"CAPM: \")\n",
    "    X = X_df[factors]\n",
    "    X.reset_index(drop=True, inplace=True)\n",
    "    y.reset_index(drop=True, inplace=True)\n",
    "    X_sm = sm.add_constant(X)\n",
    "    model = sm.OLS(y,X_sm)\n",
    "    results = model.fit()\n",
    "    \n",
    "    \n",
    "    print(\"alpha: \", round(results.params[0], 2))\n",
    "    print(\"t-stat: \", round(results.tvalues[0], 3))\n",
    "\n",
    "\n",
    "    print(\"\\nFama French: \")\n",
    "    factors = [\"Mkt-RF\", \"SMB\", \"HML\"]\n",
    "    X = X_df[factors]\n",
    "    X.reset_index(drop=True, inplace=True)\n",
    "\n",
    "    X_sm = sm.add_constant(X)\n",
    "    model = sm.OLS(y,X_sm)\n",
    "    results = model.fit()\n",
    "\n",
    "    print(\"alpha: \", round(results.params[0], 2))\n",
    "    print(\"t-stat: \", round(results.tvalues[0], 3))\n",
    "\n",
    "\n",
    "    \n",
    "    rp = y.mean()\n",
    "    std_rp = y.std()\n",
    "\n",
    "    sharpe_ratio = (rp)/std_rp * math.sqrt(12)\n",
    "    print(\"\\nSharpe ratio: \", round(sharpe_ratio,3))\n",
    "\n"
   ]
  },
  {
   "cell_type": "code",
   "execution_count": 50,
   "metadata": {},
   "outputs": [],
   "source": [
    "fama_french_raw = pd.read_csv(\"data/05_df_ff_info.csv\")\n",
    "fundamentals_raw = pd.read_csv(\"data/funda.csv\")\n",
    "stocks_raw = pd.read_csv(\"data/monthlystocks.csv\")"
   ]
  },
  {
   "cell_type": "code",
   "execution_count": 51,
   "metadata": {},
   "outputs": [],
   "source": [
    "stocks, fundamentals, fama_french = clean_data(stocks_raw, fundamentals_raw, fama_french_raw)\n",
    "fundamentals = get_rd_capital(fundamentals)\n",
    "rd_firms_fund, non_rd_firms_fund = split_rd_firms(fundamentals)\n",
    "rd_firms, non_rd_firms = merge_stock_fundamentals(rd_firms_fund, non_rd_firms_fund, stocks)\n",
    "firms, rd_firms, non_rd_firms = bin_firms(rd_firms, non_rd_firms)\n",
    "\n",
    "firms_wo_1000, rd_firms_wo_1000, non_rd_firms_wo_1000 = bin_firms(rd_firms, non_rd_firms, remove_1000=True)"
   ]
  },
  {
   "cell_type": "code",
   "execution_count": 52,
   "metadata": {},
   "outputs": [
    {
     "data": {
      "text/html": [
       "<div>\n",
       "<style scoped>\n",
       "    .dataframe tbody tr th:only-of-type {\n",
       "        vertical-align: middle;\n",
       "    }\n",
       "\n",
       "    .dataframe tbody tr th {\n",
       "        vertical-align: top;\n",
       "    }\n",
       "\n",
       "    .dataframe thead th {\n",
       "        text-align: right;\n",
       "    }\n",
       "</style>\n",
       "<table border=\"1\" class=\"dataframe\">\n",
       "  <thead>\n",
       "    <tr style=\"text-align: right;\">\n",
       "      <th></th>\n",
       "      <th>L</th>\n",
       "      <th>2</th>\n",
       "      <th>3</th>\n",
       "      <th>4</th>\n",
       "      <th>H</th>\n",
       "      <th>Non R&amp;D</th>\n",
       "    </tr>\n",
       "  </thead>\n",
       "  <tbody>\n",
       "    <tr>\n",
       "      <th>Full period</th>\n",
       "      <td>0.654</td>\n",
       "      <td>0.772</td>\n",
       "      <td>1.006</td>\n",
       "      <td>1.277</td>\n",
       "      <td>1.929</td>\n",
       "      <td>0.948</td>\n",
       "    </tr>\n",
       "    <tr>\n",
       "      <th>Pre 2000</th>\n",
       "      <td>0.745</td>\n",
       "      <td>0.849</td>\n",
       "      <td>1.091</td>\n",
       "      <td>1.296</td>\n",
       "      <td>1.940</td>\n",
       "      <td>0.899</td>\n",
       "    </tr>\n",
       "    <tr>\n",
       "      <th>Post 2000</th>\n",
       "      <td>0.529</td>\n",
       "      <td>0.666</td>\n",
       "      <td>0.889</td>\n",
       "      <td>1.252</td>\n",
       "      <td>1.915</td>\n",
       "      <td>1.015</td>\n",
       "    </tr>\n",
       "    <tr>\n",
       "      <th>Full Through Dec 2021</th>\n",
       "      <td>0.754</td>\n",
       "      <td>0.883</td>\n",
       "      <td>1.138</td>\n",
       "      <td>1.319</td>\n",
       "      <td>1.908</td>\n",
       "      <td>0.999</td>\n",
       "    </tr>\n",
       "  </tbody>\n",
       "</table>\n",
       "</div>"
      ],
      "text/plain": [
       "                           L      2      3      4      H  Non R&D\n",
       "Full period            0.654  0.772  1.006  1.277  1.929    0.948\n",
       "Pre 2000               0.745  0.849  1.091  1.296  1.940    0.899\n",
       "Post 2000              0.529  0.666  0.889  1.252  1.915    1.015\n",
       "Full Through Dec 2021  0.754  0.883  1.138  1.319  1.908    0.999"
      ]
     },
     "metadata": {},
     "output_type": "display_data"
    },
    {
     "name": "stdout",
     "output_type": "stream",
     "text": [
      "CAPM: \n",
      "alpha:  1.15\n",
      "t-stat:  4.125\n",
      "\n",
      "Fama French: \n",
      "alpha:  1.13\n",
      "t-stat:  4.624\n",
      "\n",
      "Sharpe ratio:  0.823\n"
     ]
    },
    {
     "data": {
      "image/png": "[encoded data removed]",
      "text/plain": [
       "<Figure size 432x288 with 1 Axes>"
      ]
     },
     "metadata": {
      "needs_background": "light"
     },
     "output_type": "display_data"
    }
   ],
   "source": [
    "equal_monthly_returns, equal_stocks_w_bins = get_monthly_returns(firms, stocks, value_weighted=False)\n",
    "equal_monthly_returns = get_excess_returns(equal_monthly_returns, fama_french)\n",
    "\n",
    "equal_results = get_results(equal_monthly_returns)\n",
    "display(equal_results)\n",
    "equal_results.T.plot(ylabel=\"Average Percent Return\", xlabel=\"Bin\", title=\"Equal Weighted\")\n",
    "run_regressions_and_sharpe(fama_french, equal_monthly_returns)"
   ]
  },
  {
   "cell_type": "code",
   "execution_count": 53,
   "metadata": {},
   "outputs": [
    {
     "data": {
      "text/html": [
       "<div>\n",
       "<style scoped>\n",
       "    .dataframe tbody tr th:only-of-type {\n",
       "        vertical-align: middle;\n",
       "    }\n",
       "\n",
       "    .dataframe tbody tr th {\n",
       "        vertical-align: top;\n",
       "    }\n",
       "\n",
       "    .dataframe thead th {\n",
       "        text-align: right;\n",
       "    }\n",
       "</style>\n",
       "<table border=\"1\" class=\"dataframe\">\n",
       "  <thead>\n",
       "    <tr style=\"text-align: right;\">\n",
       "      <th></th>\n",
       "      <th>L</th>\n",
       "      <th>2</th>\n",
       "      <th>3</th>\n",
       "      <th>4</th>\n",
       "      <th>H</th>\n",
       "      <th>Non R&amp;D</th>\n",
       "    </tr>\n",
       "  </thead>\n",
       "  <tbody>\n",
       "    <tr>\n",
       "      <th>Full period</th>\n",
       "      <td>0.619</td>\n",
       "      <td>0.781</td>\n",
       "      <td>0.773</td>\n",
       "      <td>1.064</td>\n",
       "      <td>1.164</td>\n",
       "      <td>0.661</td>\n",
       "    </tr>\n",
       "    <tr>\n",
       "      <th>Pre 2000</th>\n",
       "      <td>1.053</td>\n",
       "      <td>1.186</td>\n",
       "      <td>1.071</td>\n",
       "      <td>1.289</td>\n",
       "      <td>1.247</td>\n",
       "      <td>0.937</td>\n",
       "    </tr>\n",
       "    <tr>\n",
       "      <th>Post 2000</th>\n",
       "      <td>0.028</td>\n",
       "      <td>0.228</td>\n",
       "      <td>0.367</td>\n",
       "      <td>0.757</td>\n",
       "      <td>1.050</td>\n",
       "      <td>0.284</td>\n",
       "    </tr>\n",
       "    <tr>\n",
       "      <th>Full Through Dec 2021</th>\n",
       "      <td>0.716</td>\n",
       "      <td>0.987</td>\n",
       "      <td>0.942</td>\n",
       "      <td>1.269</td>\n",
       "      <td>1.330</td>\n",
       "      <td>0.738</td>\n",
       "    </tr>\n",
       "  </tbody>\n",
       "</table>\n",
       "</div>"
      ],
      "text/plain": [
       "                           L      2      3      4      H  Non R&D\n",
       "Full period            0.619  0.781  0.773  1.064  1.164    0.661\n",
       "Pre 2000               1.053  1.186  1.071  1.289  1.247    0.937\n",
       "Post 2000              0.028  0.228  0.367  0.757  1.050    0.284\n",
       "Full Through Dec 2021  0.716  0.987  0.942  1.269  1.330    0.738"
      ]
     },
     "metadata": {},
     "output_type": "display_data"
    },
    {
     "name": "stdout",
     "output_type": "stream",
     "text": [
      "CAPM: \n",
      "alpha:  0.34\n",
      "t-stat:  1.175\n",
      "\n",
      "Fama French: \n",
      "alpha:  0.08\n",
      "t-stat:  0.298\n",
      "\n",
      "Sharpe ratio:  0.331\n"
     ]
    },
    {
     "data": {
      "image/png": "[encoded data removed]",
      "text/plain": [
       "<Figure size 432x288 with 1 Axes>"
      ]
     },
     "metadata": {
      "needs_background": "light"
     },
     "output_type": "display_data"
    }
   ],
   "source": [
    "value_monthly_returns, value_stocks_w_bins = get_monthly_returns(firms, stocks, value_weighted=True)\n",
    "value_monthly_returns = get_excess_returns(value_monthly_returns, fama_french)\n",
    "\n",
    "value_results = get_results(value_monthly_returns)\n",
    "display(value_results)\n",
    "value_results.T.plot(ylabel=\"Average Percent Return\", xlabel=\"Bin\", title=\"Value Weighted\")\n",
    "run_regressions_and_sharpe(fama_french, value_monthly_returns)"
   ]
  },
  {
   "cell_type": "code",
   "execution_count": 55,
   "metadata": {},
   "outputs": [
    {
     "data": {
      "text/plain": [
       "812037"
      ]
     },
     "execution_count": 55,
     "metadata": {},
     "output_type": "execute_result"
    }
   ],
   "source": [
    "len(value_wo_1000_stocks_w_bins)"
   ]
  },
  {
   "cell_type": "code",
   "execution_count": 56,
   "metadata": {},
   "outputs": [
    {
     "data": {
      "text/plain": [
       "Non R&D    396924\n",
       "L           84614\n",
       "2           83948\n",
       "3           83763\n",
       "4           82907\n",
       "H           79881\n",
       "Name: bins, dtype: int64"
      ]
     },
     "execution_count": 56,
     "metadata": {},
     "output_type": "execute_result"
    }
   ],
   "source": [
    "value_wo_1000_stocks_w_bins.bins.value_counts()"
   ]
  },
  {
   "cell_type": "code",
   "execution_count": 54,
   "metadata": {},
   "outputs": [
    {
     "data": {
      "text/html": [
       "<div>\n",
       "<style scoped>\n",
       "    .dataframe tbody tr th:only-of-type {\n",
       "        vertical-align: middle;\n",
       "    }\n",
       "\n",
       "    .dataframe tbody tr th {\n",
       "        vertical-align: top;\n",
       "    }\n",
       "\n",
       "    .dataframe thead th {\n",
       "        text-align: right;\n",
       "    }\n",
       "</style>\n",
       "<table border=\"1\" class=\"dataframe\">\n",
       "  <thead>\n",
       "    <tr style=\"text-align: right;\">\n",
       "      <th></th>\n",
       "      <th>L</th>\n",
       "      <th>2</th>\n",
       "      <th>3</th>\n",
       "      <th>4</th>\n",
       "      <th>H</th>\n",
       "      <th>Non R&amp;D</th>\n",
       "    </tr>\n",
       "  </thead>\n",
       "  <tbody>\n",
       "    <tr>\n",
       "      <th>Full period</th>\n",
       "      <td>0.510</td>\n",
       "      <td>0.639</td>\n",
       "      <td>0.972</td>\n",
       "      <td>1.088</td>\n",
       "      <td>1.655</td>\n",
       "      <td>0.823</td>\n",
       "    </tr>\n",
       "    <tr>\n",
       "      <th>Pre 2000</th>\n",
       "      <td>0.515</td>\n",
       "      <td>0.734</td>\n",
       "      <td>1.031</td>\n",
       "      <td>1.134</td>\n",
       "      <td>1.447</td>\n",
       "      <td>0.697</td>\n",
       "    </tr>\n",
       "    <tr>\n",
       "      <th>Post 2000</th>\n",
       "      <td>0.503</td>\n",
       "      <td>0.509</td>\n",
       "      <td>0.892</td>\n",
       "      <td>1.026</td>\n",
       "      <td>1.940</td>\n",
       "      <td>0.995</td>\n",
       "    </tr>\n",
       "    <tr>\n",
       "      <th>Full Through Dec 2021</th>\n",
       "      <td>0.618</td>\n",
       "      <td>0.792</td>\n",
       "      <td>1.117</td>\n",
       "      <td>1.280</td>\n",
       "      <td>1.711</td>\n",
       "      <td>0.898</td>\n",
       "    </tr>\n",
       "  </tbody>\n",
       "</table>\n",
       "</div>"
      ],
      "text/plain": [
       "                           L      2      3      4      H  Non R&D\n",
       "Full period            0.510  0.639  0.972  1.088  1.655    0.823\n",
       "Pre 2000               0.515  0.734  1.031  1.134  1.447    0.697\n",
       "Post 2000              0.503  0.509  0.892  1.026  1.940    0.995\n",
       "Full Through Dec 2021  0.618  0.792  1.117  1.280  1.711    0.898"
      ]
     },
     "metadata": {},
     "output_type": "display_data"
    },
    {
     "name": "stdout",
     "output_type": "stream",
     "text": [
      "CAPM: \n",
      "alpha:  0.95\n",
      "t-stat:  3.174\n",
      "\n",
      "Fama French: \n",
      "alpha:  0.95\n",
      "t-stat:  3.468\n",
      "\n",
      "Sharpe ratio:  0.68\n"
     ]
    },
    {
     "data": {
      "image/png": "[encoded data removed]",
      "text/plain": [
       "<Figure size 432x288 with 1 Axes>"
      ]
     },
     "metadata": {
      "needs_background": "light"
     },
     "output_type": "display_data"
    }
   ],
   "source": [
    "value_wo_1000_monthly_returns, value_wo_1000_stocks_w_bins = get_monthly_returns(firms_wo_1000, stocks, value_weighted=True)\n",
    "value_wo_1000_monthly_returns = get_excess_returns(value_wo_1000_monthly_returns, fama_french)\n",
    "\n",
    "value_wo_1000_results = get_results(value_wo_1000_monthly_returns)\n",
    "display(value_wo_1000_results)\n",
    "value_wo_1000_results.T.plot(ylabel=\"Average Monthly Percent Return\", xlabel=\"Bin\", title=\"Value Weighted\")\n",
    "run_regressions_and_sharpe(fama_french, value_wo_1000_monthly_returns)"
   ]
  },
  {
   "cell_type": "code",
   "execution_count": 18,
   "metadata": {},
   "outputs": [],
   "source": [
    "# Average Market Capitalization"
   ]
  },
  {
   "cell_type": "code",
   "execution_count": null,
   "metadata": {},
   "outputs": [],
   "source": []
  },
  {
   "cell_type": "code",
   "execution_count": 19,
   "metadata": {},
   "outputs": [],
   "source": [
    "def get_avg_stat(stocks_w_bins, stat, plot = True):\n",
    "    \n",
    "    if stat == \"Turnover\":\n",
    "        stocks_w_bins['Turnover'] = stocks_w_bins['VOL']/stocks_w_bins['SHROUT']\n",
    "     \n",
    "\n",
    "    \n",
    "    first_period = pd.Timestamp(year=1981, month=7, day=1)\n",
    "    mid_period = pd.Timestamp(year=1999, month=12, day=31)\n",
    "    last_period = pd.Timestamp(year=2012, month=12, day=31)\n",
    "    extra_period = pd.Timestamp(year=2021, month=12, day=31)\n",
    "\n",
    "    order = [\"L\", \"2\", \"3\", \"4\", \"H\", \"Non R&D\"]\n",
    "\n",
    "    full_period = stocks_w_bins[(stocks_w_bins[\"datadate\"] >= first_period) & (stocks_w_bins[\"datadate\"] <= last_period)].groupby(\"bins\")[stat].mean()[order]\n",
    "    pre_2000 = stocks_w_bins[(stocks_w_bins[\"datadate\"] >= first_period) & (stocks_w_bins[\"datadate\"] <= mid_period)].groupby(\"bins\")[stat].mean()[order]\n",
    "    post_2000 = stocks_w_bins[(stocks_w_bins[\"datadate\"] > mid_period) & (stocks_w_bins[\"datadate\"] <= last_period)].groupby(\"bins\")[stat].mean()[order]\n",
    "    extra = stocks_w_bins[(stocks_w_bins[\"datadate\"] >= first_period) & (stocks_w_bins[\"datadate\"] <= extra_period)].groupby(\"bins\")[stat].mean()[order]\n",
    "\n",
    "\n",
    "    results = pd.DataFrame({c: pd.Series(dtype=\"float\") for c in order})\n",
    "\n",
    "    results.loc[len(results.index)] = full_period\n",
    "    results.loc[len(results.index)] = pre_2000\n",
    "    results.loc[len(results.index)] = post_2000\n",
    "    results.loc[len(results.index)] = extra\n",
    "    \n",
    "    ax_max = max(full_period.max(), pre_2000.max(), post_2000.max(), extra.max())\n",
    "\n",
    "    ax_max = ax_max * 1.05\n",
    "\n",
    "    if plot:\n",
    "        fig, ax = plt.subplots(nrows=2, ncols=2, figsize=(12,9))\n",
    "        fig.suptitle('Average ' + stat, fontsize=14)\n",
    "        ax[0,0].bar(order,full_period[order])\n",
    "        ax[0,0].set_ylim(0,ax_max)\n",
    "        ax[0,0].set_title('Full period')\n",
    "       \n",
    "        ax[0,1].bar(order,pre_2000[order])\n",
    "        ax[0,1].set_ylim(0,ax_max)\n",
    "        ax[0,1].set_title('Pre 2000')\n",
    "\n",
    "        ax[1,0].bar(order,post_2000[order])\n",
    "        ax[1,0].set_ylim(0,ax_max)\n",
    "        ax[1,0].set_title('Post 2000')\n",
    "\n",
    "        ax[1,1].bar(order,extra[order])\n",
    "        ax[1,1].set_ylim(0,ax_max)\n",
    "        ax[1,1].set_title('Full Through Dec 2021')\n",
    "\n",
    "        plt.show()\n",
    "\n",
    "\n",
    "\n",
    "    results.index = [\"Full period\", \"Pre 2000\", \"Post 2000\", \"Full Through Dec 2021\"]\n",
    "    return results"
   ]
  },
  {
   "cell_type": "code",
   "execution_count": 20,
   "metadata": {},
   "outputs": [],
   "source": [
    "def get_factor_betas(monthly_return, fama_french):\n",
    "     return_betas = pd.merge(monthly_return, fama_french, on=\"Date\")\n",
    "     order = [\"L\", \"2\", \"3\", \"4\", \"H\", \"Non R&D\"]\n",
    "\n",
    "     first_period = pd.Timestamp(year=1981, month=7, day=1)\n",
    "     mid_period = pd.Timestamp(year=1999, month=12, day=31)\n",
    "     last_period = pd.Timestamp(year=2012, month=12, day=31)\n",
    "     extra_period = pd.Timestamp(year=2021, month=12, day=31)\n",
    "\n",
    "     periods = [(first_period,last_period), (first_period,mid_period), (mid_period, last_period), (first_period, extra_period)]\n",
    "\n",
    "     beta_dfs = []\n",
    "\n",
    "     for period in periods:\n",
    "          bin_data = return_betas[(return_betas[\"Date\"] >= period[0]) & (return_betas[\"Date\"] <= period[1])]\n",
    "          bin_betas = {}\n",
    "          for bin in order:\n",
    "               data_bin = bin_data[bin_data['bins']==bin]\n",
    "               X = data_bin[['Mkt-RF','SMB','HML']] * 100\n",
    "               X = sm.add_constant(X)\n",
    "               y = data_bin['Excess Returns']\n",
    "               model = sm.OLS(y, X)\n",
    "               results = model.fit()\n",
    "               bin_betas[bin] = list(results.params[1:])\n",
    "\n",
    "          temp = pd.DataFrame(bin_betas).T\n",
    "          temp.columns = [\"Market\", \"Size\", \"Value\"]\n",
    "          \n",
    "          beta_dfs.append(temp)\n",
    "\n",
    "     return beta_dfs\n"
   ]
  },
  {
   "cell_type": "code",
   "execution_count": 21,
   "metadata": {},
   "outputs": [],
   "source": [
    "def plot_factors(period_betas, factor):\n",
    "    order = [\"L\", \"2\", \"3\", \"4\", \"H\", \"Non R&D\"]\n",
    "    full_period_betas, pre_2000_betas, post_2000_betas, extended_betas = period_betas\n",
    "   \n",
    "    full_period = full_period_betas[factor]\n",
    "    pre_2000 = pre_2000_betas[factor]\n",
    "    post_2000 = post_2000_betas[factor]\n",
    "    extra = extended_betas[factor]\n",
    "\n",
    "    ax_max = max(full_period.max(), pre_2000.max(), post_2000.max(), extra.max()) + .1\n",
    "\n",
    "    fig, ax = plt.subplots(nrows=2, ncols=2, figsize=(12,9))\n",
    "    fig.suptitle('Average ' + factor, fontsize=14)\n",
    "    ax[0,0].bar(order,full_period[order])\n",
    "    ax[0,0].set_ylim(top = ax_max)\n",
    "    ax[0,0].set_title('Full period')\n",
    "\n",
    "    ax[0,1].bar(order,pre_2000[order])\n",
    "    ax[0,1].set_ylim(top = ax_max)\n",
    "    ax[0,1].set_title('Pre 2000')\n",
    "\n",
    "    ax[1,0].bar(order,post_2000[order])\n",
    "    ax[1,0].set_ylim(top = ax_max)\n",
    "    ax[1,0].set_title('Post 2000')\n",
    "\n",
    "    ax[1,1].bar(order,extra[order])\n",
    "    ax[1,1].set_ylim(top = ax_max)\n",
    "    ax[1,1].set_title('Full Through Dec 2021')\n",
    "\n",
    "    plt.show()\n",
    "\n",
    "    factor_df = pd.DataFrame([full_period, pre_2000, post_2000, extra], columns=order)\n",
    "    factor_df.index = ['Full period', 'Pre 2000', 'Post 2000', 'Full Through Dec 2021']\n",
    "    #factor_df.append([full_period, pre_2000, post_2000, extra],ignore_index=True)\n",
    "    return factor_df\n",
    "\n"
   ]
  },
  {
   "cell_type": "code",
   "execution_count": 22,
   "metadata": {},
   "outputs": [],
   "source": [
    "# Equal Weighted"
   ]
  },
  {
   "cell_type": "code",
   "execution_count": 23,
   "metadata": {},
   "outputs": [
    {
     "data": {
      "image/png": "[encoded data removed]",
      "text/plain": [
       "<Figure size 864x648 with 4 Axes>"
      ]
     },
     "metadata": {
      "needs_background": "light"
     },
     "output_type": "display_data"
    },
    {
     "data": {
      "text/html": [
       "<div>\n",
       "<style scoped>\n",
       "    .dataframe tbody tr th:only-of-type {\n",
       "        vertical-align: middle;\n",
       "    }\n",
       "\n",
       "    .dataframe tbody tr th {\n",
       "        vertical-align: top;\n",
       "    }\n",
       "\n",
       "    .dataframe thead th {\n",
       "        text-align: right;\n",
       "    }\n",
       "</style>\n",
       "<table border=\"1\" class=\"dataframe\">\n",
       "  <thead>\n",
       "    <tr style=\"text-align: right;\">\n",
       "      <th></th>\n",
       "      <th>L</th>\n",
       "      <th>2</th>\n",
       "      <th>3</th>\n",
       "      <th>4</th>\n",
       "      <th>H</th>\n",
       "      <th>Non R&amp;D</th>\n",
       "    </tr>\n",
       "  </thead>\n",
       "  <tbody>\n",
       "    <tr>\n",
       "      <th>Full period</th>\n",
       "      <td>5.436402e+06</td>\n",
       "      <td>3.971594e+06</td>\n",
       "      <td>2.972380e+06</td>\n",
       "      <td>1.368207e+06</td>\n",
       "      <td>492265.726143</td>\n",
       "      <td>1.601707e+06</td>\n",
       "    </tr>\n",
       "    <tr>\n",
       "      <th>Pre 2000</th>\n",
       "      <td>2.689952e+06</td>\n",
       "      <td>2.118399e+06</td>\n",
       "      <td>1.674699e+06</td>\n",
       "      <td>1.060182e+06</td>\n",
       "      <td>465648.844959</td>\n",
       "      <td>8.423644e+05</td>\n",
       "    </tr>\n",
       "    <tr>\n",
       "      <th>Post 2000</th>\n",
       "      <td>8.674216e+06</td>\n",
       "      <td>6.168319e+06</td>\n",
       "      <td>4.519852e+06</td>\n",
       "      <td>1.739469e+06</td>\n",
       "      <td>525213.825088</td>\n",
       "      <td>2.715163e+06</td>\n",
       "    </tr>\n",
       "    <tr>\n",
       "      <th>Full Through Dec 2021</th>\n",
       "      <td>7.777524e+06</td>\n",
       "      <td>6.631663e+06</td>\n",
       "      <td>5.711955e+06</td>\n",
       "      <td>2.335161e+06</td>\n",
       "      <td>588531.300396</td>\n",
       "      <td>2.583552e+06</td>\n",
       "    </tr>\n",
       "  </tbody>\n",
       "</table>\n",
       "</div>"
      ],
      "text/plain": [
       "                                  L             2             3             4  \\\n",
       "Full period            5.436402e+06  3.971594e+06  2.972380e+06  1.368207e+06   \n",
       "Pre 2000               2.689952e+06  2.118399e+06  1.674699e+06  1.060182e+06   \n",
       "Post 2000              8.674216e+06  6.168319e+06  4.519852e+06  1.739469e+06   \n",
       "Full Through Dec 2021  7.777524e+06  6.631663e+06  5.711955e+06  2.335161e+06   \n",
       "\n",
       "                                   H       Non R&D  \n",
       "Full period            492265.726143  1.601707e+06  \n",
       "Pre 2000               465648.844959  8.423644e+05  \n",
       "Post 2000              525213.825088  2.715163e+06  \n",
       "Full Through Dec 2021  588531.300396  2.583552e+06  "
      ]
     },
     "execution_count": 23,
     "metadata": {},
     "output_type": "execute_result"
    }
   ],
   "source": [
    "get_avg_stat(equal_stocks_w_bins, \"Market Cap\")"
   ]
  },
  {
   "cell_type": "code",
   "execution_count": 24,
   "metadata": {},
   "outputs": [
    {
     "data": {
      "image/png": "[encoded data removed]",
      "text/plain": [
       "<Figure size 864x648 with 4 Axes>"
      ]
     },
     "metadata": {
      "needs_background": "light"
     },
     "output_type": "display_data"
    },
    {
     "data": {
      "text/html": [
       "<div>\n",
       "<style scoped>\n",
       "    .dataframe tbody tr th:only-of-type {\n",
       "        vertical-align: middle;\n",
       "    }\n",
       "\n",
       "    .dataframe tbody tr th {\n",
       "        vertical-align: top;\n",
       "    }\n",
       "\n",
       "    .dataframe thead th {\n",
       "        text-align: right;\n",
       "    }\n",
       "</style>\n",
       "<table border=\"1\" class=\"dataframe\">\n",
       "  <thead>\n",
       "    <tr style=\"text-align: right;\">\n",
       "      <th></th>\n",
       "      <th>L</th>\n",
       "      <th>2</th>\n",
       "      <th>3</th>\n",
       "      <th>4</th>\n",
       "      <th>H</th>\n",
       "      <th>Non R&amp;D</th>\n",
       "    </tr>\n",
       "  </thead>\n",
       "  <tbody>\n",
       "    <tr>\n",
       "      <th>Full period</th>\n",
       "      <td>1.275865</td>\n",
       "      <td>1.310481</td>\n",
       "      <td>1.346102</td>\n",
       "      <td>1.311062</td>\n",
       "      <td>1.247479</td>\n",
       "      <td>0.980355</td>\n",
       "    </tr>\n",
       "    <tr>\n",
       "      <th>Pre 2000</th>\n",
       "      <td>0.764924</td>\n",
       "      <td>0.817513</td>\n",
       "      <td>0.880628</td>\n",
       "      <td>0.910709</td>\n",
       "      <td>0.853680</td>\n",
       "      <td>0.581161</td>\n",
       "    </tr>\n",
       "    <tr>\n",
       "      <th>Post 2000</th>\n",
       "      <td>1.872066</td>\n",
       "      <td>1.890218</td>\n",
       "      <td>1.896843</td>\n",
       "      <td>1.789471</td>\n",
       "      <td>1.730675</td>\n",
       "      <td>1.559947</td>\n",
       "    </tr>\n",
       "    <tr>\n",
       "      <th>Full Through Dec 2021</th>\n",
       "      <td>1.427045</td>\n",
       "      <td>1.471817</td>\n",
       "      <td>1.538203</td>\n",
       "      <td>1.588682</td>\n",
       "      <td>2.489557</td>\n",
       "      <td>1.230334</td>\n",
       "    </tr>\n",
       "  </tbody>\n",
       "</table>\n",
       "</div>"
      ],
      "text/plain": [
       "                              L         2         3         4         H  \\\n",
       "Full period            1.275865  1.310481  1.346102  1.311062  1.247479   \n",
       "Pre 2000               0.764924  0.817513  0.880628  0.910709  0.853680   \n",
       "Post 2000              1.872066  1.890218  1.896843  1.789471  1.730675   \n",
       "Full Through Dec 2021  1.427045  1.471817  1.538203  1.588682  2.489557   \n",
       "\n",
       "                        Non R&D  \n",
       "Full period            0.980355  \n",
       "Pre 2000               0.581161  \n",
       "Post 2000              1.559947  \n",
       "Full Through Dec 2021  1.230334  "
      ]
     },
     "execution_count": 24,
     "metadata": {},
     "output_type": "execute_result"
    }
   ],
   "source": [
    "get_avg_stat(equal_stocks_w_bins, \"Turnover\")"
   ]
  },
  {
   "cell_type": "code",
   "execution_count": 25,
   "metadata": {},
   "outputs": [],
   "source": [
    "equal_period_betas = get_factor_betas(equal_monthly_returns, fama_french)\n",
    "full_period_betas, pre_2000_betas, post_2000_betas, extended_betas = equal_period_betas"
   ]
  },
  {
   "cell_type": "code",
   "execution_count": 26,
   "metadata": {},
   "outputs": [
    {
     "data": {
      "text/html": [
       "<div>\n",
       "<style scoped>\n",
       "    .dataframe tbody tr th:only-of-type {\n",
       "        vertical-align: middle;\n",
       "    }\n",
       "\n",
       "    .dataframe tbody tr th {\n",
       "        vertical-align: top;\n",
       "    }\n",
       "\n",
       "    .dataframe thead th {\n",
       "        text-align: right;\n",
       "    }\n",
       "</style>\n",
       "<table border=\"1\" class=\"dataframe\">\n",
       "  <thead>\n",
       "    <tr style=\"text-align: right;\">\n",
       "      <th></th>\n",
       "      <th>Market</th>\n",
       "      <th>Size</th>\n",
       "      <th>Value</th>\n",
       "    </tr>\n",
       "  </thead>\n",
       "  <tbody>\n",
       "    <tr>\n",
       "      <th>L</th>\n",
       "      <td>1.028064</td>\n",
       "      <td>0.628422</td>\n",
       "      <td>0.016430</td>\n",
       "    </tr>\n",
       "    <tr>\n",
       "      <th>2</th>\n",
       "      <td>1.032307</td>\n",
       "      <td>0.707316</td>\n",
       "      <td>0.036869</td>\n",
       "    </tr>\n",
       "    <tr>\n",
       "      <th>3</th>\n",
       "      <td>1.087640</td>\n",
       "      <td>0.882481</td>\n",
       "      <td>0.023319</td>\n",
       "    </tr>\n",
       "    <tr>\n",
       "      <th>4</th>\n",
       "      <td>1.093566</td>\n",
       "      <td>1.154429</td>\n",
       "      <td>0.069018</td>\n",
       "    </tr>\n",
       "    <tr>\n",
       "      <th>H</th>\n",
       "      <td>1.106812</td>\n",
       "      <td>1.518889</td>\n",
       "      <td>0.068148</td>\n",
       "    </tr>\n",
       "    <tr>\n",
       "      <th>Non R&amp;D</th>\n",
       "      <td>0.939224</td>\n",
       "      <td>0.648542</td>\n",
       "      <td>0.475828</td>\n",
       "    </tr>\n",
       "  </tbody>\n",
       "</table>\n",
       "</div>"
      ],
      "text/plain": [
       "           Market      Size     Value\n",
       "L        1.028064  0.628422  0.016430\n",
       "2        1.032307  0.707316  0.036869\n",
       "3        1.087640  0.882481  0.023319\n",
       "4        1.093566  1.154429  0.069018\n",
       "H        1.106812  1.518889  0.068148\n",
       "Non R&D  0.939224  0.648542  0.475828"
      ]
     },
     "execution_count": 26,
     "metadata": {},
     "output_type": "execute_result"
    }
   ],
   "source": [
    "full_period_betas"
   ]
  },
  {
   "cell_type": "code",
   "execution_count": 27,
   "metadata": {},
   "outputs": [
    {
     "data": {
      "image/png": "[encoded data removed]",
      "text/plain": [
       "<Figure size 864x648 with 4 Axes>"
      ]
     },
     "metadata": {
      "needs_background": "light"
     },
     "output_type": "display_data"
    },
    {
     "data": {
      "text/html": [
       "<div>\n",
       "<style scoped>\n",
       "    .dataframe tbody tr th:only-of-type {\n",
       "        vertical-align: middle;\n",
       "    }\n",
       "\n",
       "    .dataframe tbody tr th {\n",
       "        vertical-align: top;\n",
       "    }\n",
       "\n",
       "    .dataframe thead th {\n",
       "        text-align: right;\n",
       "    }\n",
       "</style>\n",
       "<table border=\"1\" class=\"dataframe\">\n",
       "  <thead>\n",
       "    <tr style=\"text-align: right;\">\n",
       "      <th></th>\n",
       "      <th>L</th>\n",
       "      <th>2</th>\n",
       "      <th>3</th>\n",
       "      <th>4</th>\n",
       "      <th>H</th>\n",
       "      <th>Non R&amp;D</th>\n",
       "    </tr>\n",
       "  </thead>\n",
       "  <tbody>\n",
       "    <tr>\n",
       "      <th>Full period</th>\n",
       "      <td>1.028064</td>\n",
       "      <td>1.032307</td>\n",
       "      <td>1.087640</td>\n",
       "      <td>1.093566</td>\n",
       "      <td>1.106812</td>\n",
       "      <td>0.939224</td>\n",
       "    </tr>\n",
       "    <tr>\n",
       "      <th>Pre 2000</th>\n",
       "      <td>0.989948</td>\n",
       "      <td>0.946724</td>\n",
       "      <td>1.001368</td>\n",
       "      <td>1.027237</td>\n",
       "      <td>0.965163</td>\n",
       "      <td>0.881682</td>\n",
       "    </tr>\n",
       "    <tr>\n",
       "      <th>Post 2000</th>\n",
       "      <td>1.109098</td>\n",
       "      <td>1.167712</td>\n",
       "      <td>1.202597</td>\n",
       "      <td>1.206320</td>\n",
       "      <td>1.304030</td>\n",
       "      <td>1.003130</td>\n",
       "    </tr>\n",
       "    <tr>\n",
       "      <th>Full Through Dec 2021</th>\n",
       "      <td>1.015890</td>\n",
       "      <td>1.032967</td>\n",
       "      <td>1.074454</td>\n",
       "      <td>1.086409</td>\n",
       "      <td>1.110067</td>\n",
       "      <td>0.978532</td>\n",
       "    </tr>\n",
       "  </tbody>\n",
       "</table>\n",
       "</div>"
      ],
      "text/plain": [
       "                              L         2         3         4         H  \\\n",
       "Full period            1.028064  1.032307  1.087640  1.093566  1.106812   \n",
       "Pre 2000               0.989948  0.946724  1.001368  1.027237  0.965163   \n",
       "Post 2000              1.109098  1.167712  1.202597  1.206320  1.304030   \n",
       "Full Through Dec 2021  1.015890  1.032967  1.074454  1.086409  1.110067   \n",
       "\n",
       "                        Non R&D  \n",
       "Full period            0.939224  \n",
       "Pre 2000               0.881682  \n",
       "Post 2000              1.003130  \n",
       "Full Through Dec 2021  0.978532  "
      ]
     },
     "execution_count": 27,
     "metadata": {},
     "output_type": "execute_result"
    }
   ],
   "source": [
    "plot_factors(equal_period_betas, \"Market\")"
   ]
  },
  {
   "cell_type": "code",
   "execution_count": 28,
   "metadata": {},
   "outputs": [
    {
     "data": {
      "image/png": "[encoded data removed]",
      "text/plain": [
       "<Figure size 864x648 with 4 Axes>"
      ]
     },
     "metadata": {
      "needs_background": "light"
     },
     "output_type": "display_data"
    },
    {
     "data": {
      "text/html": [
       "<div>\n",
       "<style scoped>\n",
       "    .dataframe tbody tr th:only-of-type {\n",
       "        vertical-align: middle;\n",
       "    }\n",
       "\n",
       "    .dataframe tbody tr th {\n",
       "        vertical-align: top;\n",
       "    }\n",
       "\n",
       "    .dataframe thead th {\n",
       "        text-align: right;\n",
       "    }\n",
       "</style>\n",
       "<table border=\"1\" class=\"dataframe\">\n",
       "  <thead>\n",
       "    <tr style=\"text-align: right;\">\n",
       "      <th></th>\n",
       "      <th>L</th>\n",
       "      <th>2</th>\n",
       "      <th>3</th>\n",
       "      <th>4</th>\n",
       "      <th>H</th>\n",
       "      <th>Non R&amp;D</th>\n",
       "    </tr>\n",
       "  </thead>\n",
       "  <tbody>\n",
       "    <tr>\n",
       "      <th>Full period</th>\n",
       "      <td>0.628422</td>\n",
       "      <td>0.707316</td>\n",
       "      <td>0.882481</td>\n",
       "      <td>1.154429</td>\n",
       "      <td>1.518889</td>\n",
       "      <td>0.648542</td>\n",
       "    </tr>\n",
       "    <tr>\n",
       "      <th>Pre 2000</th>\n",
       "      <td>0.764946</td>\n",
       "      <td>0.837056</td>\n",
       "      <td>0.946371</td>\n",
       "      <td>1.176939</td>\n",
       "      <td>1.536723</td>\n",
       "      <td>0.788194</td>\n",
       "    </tr>\n",
       "    <tr>\n",
       "      <th>Post 2000</th>\n",
       "      <td>0.469093</td>\n",
       "      <td>0.536430</td>\n",
       "      <td>0.774614</td>\n",
       "      <td>1.078671</td>\n",
       "      <td>1.432679</td>\n",
       "      <td>0.494995</td>\n",
       "    </tr>\n",
       "    <tr>\n",
       "      <th>Full Through Dec 2021</th>\n",
       "      <td>0.629757</td>\n",
       "      <td>0.686961</td>\n",
       "      <td>0.895497</td>\n",
       "      <td>1.152436</td>\n",
       "      <td>1.523038</td>\n",
       "      <td>0.669110</td>\n",
       "    </tr>\n",
       "  </tbody>\n",
       "</table>\n",
       "</div>"
      ],
      "text/plain": [
       "                              L         2         3         4         H  \\\n",
       "Full period            0.628422  0.707316  0.882481  1.154429  1.518889   \n",
       "Pre 2000               0.764946  0.837056  0.946371  1.176939  1.536723   \n",
       "Post 2000              0.469093  0.536430  0.774614  1.078671  1.432679   \n",
       "Full Through Dec 2021  0.629757  0.686961  0.895497  1.152436  1.523038   \n",
       "\n",
       "                        Non R&D  \n",
       "Full period            0.648542  \n",
       "Pre 2000               0.788194  \n",
       "Post 2000              0.494995  \n",
       "Full Through Dec 2021  0.669110  "
      ]
     },
     "execution_count": 28,
     "metadata": {},
     "output_type": "execute_result"
    }
   ],
   "source": [
    "plot_factors(equal_period_betas, \"Size\")"
   ]
  },
  {
   "cell_type": "code",
   "execution_count": 29,
   "metadata": {},
   "outputs": [
    {
     "data": {
      "image/png": "[encoded data removed]",
      "text/plain": [
       "<Figure size 864x648 with 4 Axes>"
      ]
     },
     "metadata": {
      "needs_background": "light"
     },
     "output_type": "display_data"
    },
    {
     "data": {
      "text/html": [
       "<div>\n",
       "<style scoped>\n",
       "    .dataframe tbody tr th:only-of-type {\n",
       "        vertical-align: middle;\n",
       "    }\n",
       "\n",
       "    .dataframe tbody tr th {\n",
       "        vertical-align: top;\n",
       "    }\n",
       "\n",
       "    .dataframe thead th {\n",
       "        text-align: right;\n",
       "    }\n",
       "</style>\n",
       "<table border=\"1\" class=\"dataframe\">\n",
       "  <thead>\n",
       "    <tr style=\"text-align: right;\">\n",
       "      <th></th>\n",
       "      <th>L</th>\n",
       "      <th>2</th>\n",
       "      <th>3</th>\n",
       "      <th>4</th>\n",
       "      <th>H</th>\n",
       "      <th>Non R&amp;D</th>\n",
       "    </tr>\n",
       "  </thead>\n",
       "  <tbody>\n",
       "    <tr>\n",
       "      <th>Full period</th>\n",
       "      <td>0.016430</td>\n",
       "      <td>0.036869</td>\n",
       "      <td>0.023319</td>\n",
       "      <td>0.069018</td>\n",
       "      <td>0.068148</td>\n",
       "      <td>0.475828</td>\n",
       "    </tr>\n",
       "    <tr>\n",
       "      <th>Pre 2000</th>\n",
       "      <td>0.095658</td>\n",
       "      <td>0.104219</td>\n",
       "      <td>0.027951</td>\n",
       "      <td>0.136265</td>\n",
       "      <td>0.102022</td>\n",
       "      <td>0.410549</td>\n",
       "    </tr>\n",
       "    <tr>\n",
       "      <th>Post 2000</th>\n",
       "      <td>-0.060316</td>\n",
       "      <td>-0.067247</td>\n",
       "      <td>-0.037579</td>\n",
       "      <td>-0.032831</td>\n",
       "      <td>-0.079041</td>\n",
       "      <td>0.489991</td>\n",
       "    </tr>\n",
       "    <tr>\n",
       "      <th>Full Through Dec 2021</th>\n",
       "      <td>0.030209</td>\n",
       "      <td>0.019033</td>\n",
       "      <td>0.017436</td>\n",
       "      <td>0.056977</td>\n",
       "      <td>0.024359</td>\n",
       "      <td>0.510398</td>\n",
       "    </tr>\n",
       "  </tbody>\n",
       "</table>\n",
       "</div>"
      ],
      "text/plain": [
       "                              L         2         3         4         H  \\\n",
       "Full period            0.016430  0.036869  0.023319  0.069018  0.068148   \n",
       "Pre 2000               0.095658  0.104219  0.027951  0.136265  0.102022   \n",
       "Post 2000             -0.060316 -0.067247 -0.037579 -0.032831 -0.079041   \n",
       "Full Through Dec 2021  0.030209  0.019033  0.017436  0.056977  0.024359   \n",
       "\n",
       "                        Non R&D  \n",
       "Full period            0.475828  \n",
       "Pre 2000               0.410549  \n",
       "Post 2000              0.489991  \n",
       "Full Through Dec 2021  0.510398  "
      ]
     },
     "execution_count": 29,
     "metadata": {},
     "output_type": "execute_result"
    }
   ],
   "source": [
    "plot_factors(equal_period_betas, \"Value\")"
   ]
  },
  {
   "cell_type": "code",
   "execution_count": 30,
   "metadata": {},
   "outputs": [],
   "source": [
    "# Value weighted"
   ]
  },
  {
   "cell_type": "code",
   "execution_count": 31,
   "metadata": {},
   "outputs": [
    {
     "data": {
      "image/png": "[encoded data removed]",
      "text/plain": [
       "<Figure size 864x648 with 4 Axes>"
      ]
     },
     "metadata": {
      "needs_background": "light"
     },
     "output_type": "display_data"
    },
    {
     "data": {
      "text/html": [
       "<div>\n",
       "<style scoped>\n",
       "    .dataframe tbody tr th:only-of-type {\n",
       "        vertical-align: middle;\n",
       "    }\n",
       "\n",
       "    .dataframe tbody tr th {\n",
       "        vertical-align: top;\n",
       "    }\n",
       "\n",
       "    .dataframe thead th {\n",
       "        text-align: right;\n",
       "    }\n",
       "</style>\n",
       "<table border=\"1\" class=\"dataframe\">\n",
       "  <thead>\n",
       "    <tr style=\"text-align: right;\">\n",
       "      <th></th>\n",
       "      <th>L</th>\n",
       "      <th>2</th>\n",
       "      <th>3</th>\n",
       "      <th>4</th>\n",
       "      <th>H</th>\n",
       "      <th>Non R&amp;D</th>\n",
       "    </tr>\n",
       "  </thead>\n",
       "  <tbody>\n",
       "    <tr>\n",
       "      <th>Full period</th>\n",
       "      <td>5.436402e+06</td>\n",
       "      <td>3.971594e+06</td>\n",
       "      <td>2.972380e+06</td>\n",
       "      <td>1.368207e+06</td>\n",
       "      <td>492265.726143</td>\n",
       "      <td>1.601707e+06</td>\n",
       "    </tr>\n",
       "    <tr>\n",
       "      <th>Pre 2000</th>\n",
       "      <td>2.689952e+06</td>\n",
       "      <td>2.118399e+06</td>\n",
       "      <td>1.674699e+06</td>\n",
       "      <td>1.060182e+06</td>\n",
       "      <td>465648.844959</td>\n",
       "      <td>8.423644e+05</td>\n",
       "    </tr>\n",
       "    <tr>\n",
       "      <th>Post 2000</th>\n",
       "      <td>8.674216e+06</td>\n",
       "      <td>6.168319e+06</td>\n",
       "      <td>4.519852e+06</td>\n",
       "      <td>1.739469e+06</td>\n",
       "      <td>525213.825088</td>\n",
       "      <td>2.715163e+06</td>\n",
       "    </tr>\n",
       "    <tr>\n",
       "      <th>Full Through Dec 2021</th>\n",
       "      <td>7.777524e+06</td>\n",
       "      <td>6.631663e+06</td>\n",
       "      <td>5.711955e+06</td>\n",
       "      <td>2.335161e+06</td>\n",
       "      <td>588531.300396</td>\n",
       "      <td>2.583552e+06</td>\n",
       "    </tr>\n",
       "  </tbody>\n",
       "</table>\n",
       "</div>"
      ],
      "text/plain": [
       "                                  L             2             3             4  \\\n",
       "Full period            5.436402e+06  3.971594e+06  2.972380e+06  1.368207e+06   \n",
       "Pre 2000               2.689952e+06  2.118399e+06  1.674699e+06  1.060182e+06   \n",
       "Post 2000              8.674216e+06  6.168319e+06  4.519852e+06  1.739469e+06   \n",
       "Full Through Dec 2021  7.777524e+06  6.631663e+06  5.711955e+06  2.335161e+06   \n",
       "\n",
       "                                   H       Non R&D  \n",
       "Full period            492265.726143  1.601707e+06  \n",
       "Pre 2000               465648.844959  8.423644e+05  \n",
       "Post 2000              525213.825088  2.715163e+06  \n",
       "Full Through Dec 2021  588531.300396  2.583552e+06  "
      ]
     },
     "execution_count": 31,
     "metadata": {},
     "output_type": "execute_result"
    }
   ],
   "source": [
    "get_avg_stat(value_stocks_w_bins, \"Market Cap\")"
   ]
  },
  {
   "cell_type": "code",
   "execution_count": 32,
   "metadata": {},
   "outputs": [
    {
     "data": {
      "image/png": "[encoded data removed]",
      "text/plain": [
       "<Figure size 864x648 with 4 Axes>"
      ]
     },
     "metadata": {
      "needs_background": "light"
     },
     "output_type": "display_data"
    },
    {
     "data": {
      "text/html": [
       "<div>\n",
       "<style scoped>\n",
       "    .dataframe tbody tr th:only-of-type {\n",
       "        vertical-align: middle;\n",
       "    }\n",
       "\n",
       "    .dataframe tbody tr th {\n",
       "        vertical-align: top;\n",
       "    }\n",
       "\n",
       "    .dataframe thead th {\n",
       "        text-align: right;\n",
       "    }\n",
       "</style>\n",
       "<table border=\"1\" class=\"dataframe\">\n",
       "  <thead>\n",
       "    <tr style=\"text-align: right;\">\n",
       "      <th></th>\n",
       "      <th>L</th>\n",
       "      <th>2</th>\n",
       "      <th>3</th>\n",
       "      <th>4</th>\n",
       "      <th>H</th>\n",
       "      <th>Non R&amp;D</th>\n",
       "    </tr>\n",
       "  </thead>\n",
       "  <tbody>\n",
       "    <tr>\n",
       "      <th>Full period</th>\n",
       "      <td>1.275865</td>\n",
       "      <td>1.310481</td>\n",
       "      <td>1.346102</td>\n",
       "      <td>1.311062</td>\n",
       "      <td>1.247479</td>\n",
       "      <td>0.980355</td>\n",
       "    </tr>\n",
       "    <tr>\n",
       "      <th>Pre 2000</th>\n",
       "      <td>0.764924</td>\n",
       "      <td>0.817513</td>\n",
       "      <td>0.880628</td>\n",
       "      <td>0.910709</td>\n",
       "      <td>0.853680</td>\n",
       "      <td>0.581161</td>\n",
       "    </tr>\n",
       "    <tr>\n",
       "      <th>Post 2000</th>\n",
       "      <td>1.872066</td>\n",
       "      <td>1.890218</td>\n",
       "      <td>1.896843</td>\n",
       "      <td>1.789471</td>\n",
       "      <td>1.730675</td>\n",
       "      <td>1.559947</td>\n",
       "    </tr>\n",
       "    <tr>\n",
       "      <th>Full Through Dec 2021</th>\n",
       "      <td>1.427045</td>\n",
       "      <td>1.471817</td>\n",
       "      <td>1.538203</td>\n",
       "      <td>1.588682</td>\n",
       "      <td>2.489557</td>\n",
       "      <td>1.230334</td>\n",
       "    </tr>\n",
       "  </tbody>\n",
       "</table>\n",
       "</div>"
      ],
      "text/plain": [
       "                              L         2         3         4         H  \\\n",
       "Full period            1.275865  1.310481  1.346102  1.311062  1.247479   \n",
       "Pre 2000               0.764924  0.817513  0.880628  0.910709  0.853680   \n",
       "Post 2000              1.872066  1.890218  1.896843  1.789471  1.730675   \n",
       "Full Through Dec 2021  1.427045  1.471817  1.538203  1.588682  2.489557   \n",
       "\n",
       "                        Non R&D  \n",
       "Full period            0.980355  \n",
       "Pre 2000               0.581161  \n",
       "Post 2000              1.559947  \n",
       "Full Through Dec 2021  1.230334  "
      ]
     },
     "execution_count": 32,
     "metadata": {},
     "output_type": "execute_result"
    }
   ],
   "source": [
    "get_avg_stat(value_stocks_w_bins, \"Turnover\")"
   ]
  },
  {
   "cell_type": "code",
   "execution_count": 33,
   "metadata": {},
   "outputs": [],
   "source": [
    "value_period_betas = get_factor_betas(value_monthly_returns, fama_french)\n",
    "full_period_betas, pre_2000_betas, post_2000_betas, extended_betas = value_period_betas"
   ]
  },
  {
   "cell_type": "code",
   "execution_count": 34,
   "metadata": {},
   "outputs": [
    {
     "data": {
      "text/html": [
       "<div>\n",
       "<style scoped>\n",
       "    .dataframe tbody tr th:only-of-type {\n",
       "        vertical-align: middle;\n",
       "    }\n",
       "\n",
       "    .dataframe tbody tr th {\n",
       "        vertical-align: top;\n",
       "    }\n",
       "\n",
       "    .dataframe thead th {\n",
       "        text-align: right;\n",
       "    }\n",
       "</style>\n",
       "<table border=\"1\" class=\"dataframe\">\n",
       "  <thead>\n",
       "    <tr style=\"text-align: right;\">\n",
       "      <th></th>\n",
       "      <th>Market</th>\n",
       "      <th>Size</th>\n",
       "      <th>Value</th>\n",
       "    </tr>\n",
       "  </thead>\n",
       "  <tbody>\n",
       "    <tr>\n",
       "      <th>L</th>\n",
       "      <td>0.920899</td>\n",
       "      <td>-0.183040</td>\n",
       "      <td>-0.262035</td>\n",
       "    </tr>\n",
       "    <tr>\n",
       "      <th>2</th>\n",
       "      <td>0.964483</td>\n",
       "      <td>-0.067052</td>\n",
       "      <td>-0.094271</td>\n",
       "    </tr>\n",
       "    <tr>\n",
       "      <th>3</th>\n",
       "      <td>0.968382</td>\n",
       "      <td>0.154989</td>\n",
       "      <td>-0.077807</td>\n",
       "    </tr>\n",
       "    <tr>\n",
       "      <th>4</th>\n",
       "      <td>1.089106</td>\n",
       "      <td>0.267715</td>\n",
       "      <td>0.032994</td>\n",
       "    </tr>\n",
       "    <tr>\n",
       "      <th>H</th>\n",
       "      <td>1.224227</td>\n",
       "      <td>0.634436</td>\n",
       "      <td>0.359251</td>\n",
       "    </tr>\n",
       "    <tr>\n",
       "      <th>Non R&amp;D</th>\n",
       "      <td>0.903380</td>\n",
       "      <td>-0.073923</td>\n",
       "      <td>0.162901</td>\n",
       "    </tr>\n",
       "  </tbody>\n",
       "</table>\n",
       "</div>"
      ],
      "text/plain": [
       "           Market      Size     Value\n",
       "L        0.920899 -0.183040 -0.262035\n",
       "2        0.964483 -0.067052 -0.094271\n",
       "3        0.968382  0.154989 -0.077807\n",
       "4        1.089106  0.267715  0.032994\n",
       "H        1.224227  0.634436  0.359251\n",
       "Non R&D  0.903380 -0.073923  0.162901"
      ]
     },
     "execution_count": 34,
     "metadata": {},
     "output_type": "execute_result"
    }
   ],
   "source": [
    "full_period_betas"
   ]
  },
  {
   "cell_type": "code",
   "execution_count": 35,
   "metadata": {},
   "outputs": [
    {
     "data": {
      "image/png": "[encoded data removed]",
      "text/plain": [
       "<Figure size 864x648 with 4 Axes>"
      ]
     },
     "metadata": {
      "needs_background": "light"
     },
     "output_type": "display_data"
    },
    {
     "data": {
      "text/html": [
       "<div>\n",
       "<style scoped>\n",
       "    .dataframe tbody tr th:only-of-type {\n",
       "        vertical-align: middle;\n",
       "    }\n",
       "\n",
       "    .dataframe tbody tr th {\n",
       "        vertical-align: top;\n",
       "    }\n",
       "\n",
       "    .dataframe thead th {\n",
       "        text-align: right;\n",
       "    }\n",
       "</style>\n",
       "<table border=\"1\" class=\"dataframe\">\n",
       "  <thead>\n",
       "    <tr style=\"text-align: right;\">\n",
       "      <th></th>\n",
       "      <th>L</th>\n",
       "      <th>2</th>\n",
       "      <th>3</th>\n",
       "      <th>4</th>\n",
       "      <th>H</th>\n",
       "      <th>Non R&amp;D</th>\n",
       "    </tr>\n",
       "  </thead>\n",
       "  <tbody>\n",
       "    <tr>\n",
       "      <th>Full period</th>\n",
       "      <td>0.920899</td>\n",
       "      <td>0.964483</td>\n",
       "      <td>0.968382</td>\n",
       "      <td>1.089106</td>\n",
       "      <td>1.224227</td>\n",
       "      <td>0.903380</td>\n",
       "    </tr>\n",
       "    <tr>\n",
       "      <th>Pre 2000</th>\n",
       "      <td>0.887101</td>\n",
       "      <td>0.924791</td>\n",
       "      <td>0.969054</td>\n",
       "      <td>1.064118</td>\n",
       "      <td>1.146848</td>\n",
       "      <td>0.949306</td>\n",
       "    </tr>\n",
       "    <tr>\n",
       "      <th>Post 2000</th>\n",
       "      <td>0.995797</td>\n",
       "      <td>0.994667</td>\n",
       "      <td>0.961249</td>\n",
       "      <td>1.075461</td>\n",
       "      <td>1.287456</td>\n",
       "      <td>0.842936</td>\n",
       "    </tr>\n",
       "    <tr>\n",
       "      <th>Full Through Dec 2021</th>\n",
       "      <td>0.936357</td>\n",
       "      <td>0.983009</td>\n",
       "      <td>0.961662</td>\n",
       "      <td>1.059983</td>\n",
       "      <td>1.202962</td>\n",
       "      <td>0.909996</td>\n",
       "    </tr>\n",
       "  </tbody>\n",
       "</table>\n",
       "</div>"
      ],
      "text/plain": [
       "                              L         2         3         4         H  \\\n",
       "Full period            0.920899  0.964483  0.968382  1.089106  1.224227   \n",
       "Pre 2000               0.887101  0.924791  0.969054  1.064118  1.146848   \n",
       "Post 2000              0.995797  0.994667  0.961249  1.075461  1.287456   \n",
       "Full Through Dec 2021  0.936357  0.983009  0.961662  1.059983  1.202962   \n",
       "\n",
       "                        Non R&D  \n",
       "Full period            0.903380  \n",
       "Pre 2000               0.949306  \n",
       "Post 2000              0.842936  \n",
       "Full Through Dec 2021  0.909996  "
      ]
     },
     "execution_count": 35,
     "metadata": {},
     "output_type": "execute_result"
    }
   ],
   "source": [
    "plot_factors(value_period_betas, \"Market\")"
   ]
  },
  {
   "cell_type": "code",
   "execution_count": 36,
   "metadata": {},
   "outputs": [
    {
     "data": {
      "image/png": "[encoded data removed]",
      "text/plain": [
       "<Figure size 864x648 with 4 Axes>"
      ]
     },
     "metadata": {
      "needs_background": "light"
     },
     "output_type": "display_data"
    },
    {
     "data": {
      "text/html": [
       "<div>\n",
       "<style scoped>\n",
       "    .dataframe tbody tr th:only-of-type {\n",
       "        vertical-align: middle;\n",
       "    }\n",
       "\n",
       "    .dataframe tbody tr th {\n",
       "        vertical-align: top;\n",
       "    }\n",
       "\n",
       "    .dataframe thead th {\n",
       "        text-align: right;\n",
       "    }\n",
       "</style>\n",
       "<table border=\"1\" class=\"dataframe\">\n",
       "  <thead>\n",
       "    <tr style=\"text-align: right;\">\n",
       "      <th></th>\n",
       "      <th>L</th>\n",
       "      <th>2</th>\n",
       "      <th>3</th>\n",
       "      <th>4</th>\n",
       "      <th>H</th>\n",
       "      <th>Non R&amp;D</th>\n",
       "    </tr>\n",
       "  </thead>\n",
       "  <tbody>\n",
       "    <tr>\n",
       "      <th>Full period</th>\n",
       "      <td>-0.183040</td>\n",
       "      <td>-0.067052</td>\n",
       "      <td>0.154989</td>\n",
       "      <td>0.267715</td>\n",
       "      <td>0.634436</td>\n",
       "      <td>-0.073923</td>\n",
       "    </tr>\n",
       "    <tr>\n",
       "      <th>Pre 2000</th>\n",
       "      <td>-0.156163</td>\n",
       "      <td>-0.154011</td>\n",
       "      <td>0.054648</td>\n",
       "      <td>0.121087</td>\n",
       "      <td>0.338336</td>\n",
       "      <td>0.001115</td>\n",
       "    </tr>\n",
       "    <tr>\n",
       "      <th>Post 2000</th>\n",
       "      <td>-0.234889</td>\n",
       "      <td>-0.003593</td>\n",
       "      <td>0.230298</td>\n",
       "      <td>0.388213</td>\n",
       "      <td>0.817704</td>\n",
       "      <td>-0.114775</td>\n",
       "    </tr>\n",
       "    <tr>\n",
       "      <th>Full Through Dec 2021</th>\n",
       "      <td>-0.145608</td>\n",
       "      <td>-0.077074</td>\n",
       "      <td>0.114856</td>\n",
       "      <td>0.229456</td>\n",
       "      <td>0.669159</td>\n",
       "      <td>-0.072561</td>\n",
       "    </tr>\n",
       "  </tbody>\n",
       "</table>\n",
       "</div>"
      ],
      "text/plain": [
       "                              L         2         3         4         H  \\\n",
       "Full period           -0.183040 -0.067052  0.154989  0.267715  0.634436   \n",
       "Pre 2000              -0.156163 -0.154011  0.054648  0.121087  0.338336   \n",
       "Post 2000             -0.234889 -0.003593  0.230298  0.388213  0.817704   \n",
       "Full Through Dec 2021 -0.145608 -0.077074  0.114856  0.229456  0.669159   \n",
       "\n",
       "                        Non R&D  \n",
       "Full period           -0.073923  \n",
       "Pre 2000               0.001115  \n",
       "Post 2000             -0.114775  \n",
       "Full Through Dec 2021 -0.072561  "
      ]
     },
     "execution_count": 36,
     "metadata": {},
     "output_type": "execute_result"
    }
   ],
   "source": [
    "plot_factors(value_period_betas, \"Size\")"
   ]
  },
  {
   "cell_type": "code",
   "execution_count": 37,
   "metadata": {},
   "outputs": [
    {
     "data": {
      "image/png": "[encoded data removed]",
      "text/plain": [
       "<Figure size 864x648 with 4 Axes>"
      ]
     },
     "metadata": {
      "needs_background": "light"
     },
     "output_type": "display_data"
    },
    {
     "data": {
      "text/html": [
       "<div>\n",
       "<style scoped>\n",
       "    .dataframe tbody tr th:only-of-type {\n",
       "        vertical-align: middle;\n",
       "    }\n",
       "\n",
       "    .dataframe tbody tr th {\n",
       "        vertical-align: top;\n",
       "    }\n",
       "\n",
       "    .dataframe thead th {\n",
       "        text-align: right;\n",
       "    }\n",
       "</style>\n",
       "<table border=\"1\" class=\"dataframe\">\n",
       "  <thead>\n",
       "    <tr style=\"text-align: right;\">\n",
       "      <th></th>\n",
       "      <th>L</th>\n",
       "      <th>2</th>\n",
       "      <th>3</th>\n",
       "      <th>4</th>\n",
       "      <th>H</th>\n",
       "      <th>Non R&amp;D</th>\n",
       "    </tr>\n",
       "  </thead>\n",
       "  <tbody>\n",
       "    <tr>\n",
       "      <th>Full period</th>\n",
       "      <td>-0.262035</td>\n",
       "      <td>-0.094271</td>\n",
       "      <td>-0.077807</td>\n",
       "      <td>0.032994</td>\n",
       "      <td>0.359251</td>\n",
       "      <td>0.162901</td>\n",
       "    </tr>\n",
       "    <tr>\n",
       "      <th>Pre 2000</th>\n",
       "      <td>-0.154804</td>\n",
       "      <td>-0.153908</td>\n",
       "      <td>-0.095594</td>\n",
       "      <td>-0.154200</td>\n",
       "      <td>0.266689</td>\n",
       "      <td>0.124372</td>\n",
       "    </tr>\n",
       "    <tr>\n",
       "      <th>Post 2000</th>\n",
       "      <td>-0.365367</td>\n",
       "      <td>-0.087742</td>\n",
       "      <td>-0.064979</td>\n",
       "      <td>0.127706</td>\n",
       "      <td>0.378122</td>\n",
       "      <td>0.222323</td>\n",
       "    </tr>\n",
       "    <tr>\n",
       "      <th>Full Through Dec 2021</th>\n",
       "      <td>-0.196656</td>\n",
       "      <td>-0.133021</td>\n",
       "      <td>-0.115955</td>\n",
       "      <td>-0.037412</td>\n",
       "      <td>0.355229</td>\n",
       "      <td>0.177794</td>\n",
       "    </tr>\n",
       "  </tbody>\n",
       "</table>\n",
       "</div>"
      ],
      "text/plain": [
       "                              L         2         3         4         H  \\\n",
       "Full period           -0.262035 -0.094271 -0.077807  0.032994  0.359251   \n",
       "Pre 2000              -0.154804 -0.153908 -0.095594 -0.154200  0.266689   \n",
       "Post 2000             -0.365367 -0.087742 -0.064979  0.127706  0.378122   \n",
       "Full Through Dec 2021 -0.196656 -0.133021 -0.115955 -0.037412  0.355229   \n",
       "\n",
       "                        Non R&D  \n",
       "Full period            0.162901  \n",
       "Pre 2000               0.124372  \n",
       "Post 2000              0.222323  \n",
       "Full Through Dec 2021  0.177794  "
      ]
     },
     "execution_count": 37,
     "metadata": {},
     "output_type": "execute_result"
    }
   ],
   "source": [
    "plot_factors(value_period_betas, \"Value\")"
   ]
  },
  {
   "cell_type": "code",
   "execution_count": 38,
   "metadata": {},
   "outputs": [],
   "source": [
    "# Value without largest 1000"
   ]
  },
  {
   "cell_type": "code",
   "execution_count": 39,
   "metadata": {},
   "outputs": [
    {
     "data": {
      "image/png": "[encoded data removed]",
      "text/plain": [
       "<Figure size 864x648 with 4 Axes>"
      ]
     },
     "metadata": {
      "needs_background": "light"
     },
     "output_type": "display_data"
    },
    {
     "data": {
      "text/html": [
       "<div>\n",
       "<style scoped>\n",
       "    .dataframe tbody tr th:only-of-type {\n",
       "        vertical-align: middle;\n",
       "    }\n",
       "\n",
       "    .dataframe tbody tr th {\n",
       "        vertical-align: top;\n",
       "    }\n",
       "\n",
       "    .dataframe thead th {\n",
       "        text-align: right;\n",
       "    }\n",
       "</style>\n",
       "<table border=\"1\" class=\"dataframe\">\n",
       "  <thead>\n",
       "    <tr style=\"text-align: right;\">\n",
       "      <th></th>\n",
       "      <th>L</th>\n",
       "      <th>2</th>\n",
       "      <th>3</th>\n",
       "      <th>4</th>\n",
       "      <th>H</th>\n",
       "      <th>Non R&amp;D</th>\n",
       "    </tr>\n",
       "  </thead>\n",
       "  <tbody>\n",
       "    <tr>\n",
       "      <th>Full period</th>\n",
       "      <td>159128.342776</td>\n",
       "      <td>160890.971612</td>\n",
       "      <td>150476.559708</td>\n",
       "      <td>118394.393015</td>\n",
       "      <td>74230.016380</td>\n",
       "      <td>127134.108930</td>\n",
       "    </tr>\n",
       "    <tr>\n",
       "      <th>Pre 2000</th>\n",
       "      <td>75456.167602</td>\n",
       "      <td>74924.364117</td>\n",
       "      <td>71493.286662</td>\n",
       "      <td>60580.862244</td>\n",
       "      <td>40230.906846</td>\n",
       "      <td>63105.667357</td>\n",
       "    </tr>\n",
       "    <tr>\n",
       "      <th>Post 2000</th>\n",
       "      <td>254131.343174</td>\n",
       "      <td>259449.955346</td>\n",
       "      <td>241446.120244</td>\n",
       "      <td>185523.936834</td>\n",
       "      <td>115070.388736</td>\n",
       "      <td>222177.307842</td>\n",
       "    </tr>\n",
       "    <tr>\n",
       "      <th>Full Through Dec 2021</th>\n",
       "      <td>229110.024107</td>\n",
       "      <td>226598.910456</td>\n",
       "      <td>202964.842751</td>\n",
       "      <td>160748.763805</td>\n",
       "      <td>88264.370472</td>\n",
       "      <td>175984.321040</td>\n",
       "    </tr>\n",
       "  </tbody>\n",
       "</table>\n",
       "</div>"
      ],
      "text/plain": [
       "                                   L              2              3  \\\n",
       "Full period            159128.342776  160890.971612  150476.559708   \n",
       "Pre 2000                75456.167602   74924.364117   71493.286662   \n",
       "Post 2000              254131.343174  259449.955346  241446.120244   \n",
       "Full Through Dec 2021  229110.024107  226598.910456  202964.842751   \n",
       "\n",
       "                                   4              H        Non R&D  \n",
       "Full period            118394.393015   74230.016380  127134.108930  \n",
       "Pre 2000                60580.862244   40230.906846   63105.667357  \n",
       "Post 2000              185523.936834  115070.388736  222177.307842  \n",
       "Full Through Dec 2021  160748.763805   88264.370472  175984.321040  "
      ]
     },
     "execution_count": 39,
     "metadata": {},
     "output_type": "execute_result"
    }
   ],
   "source": [
    "get_avg_stat(value_wo_1000_stocks_w_bins, \"Market Cap\")"
   ]
  },
  {
   "cell_type": "code",
   "execution_count": 40,
   "metadata": {},
   "outputs": [
    {
     "data": {
      "image/png": "[encoded data removed]",
      "text/plain": [
       "<Figure size 864x648 with 4 Axes>"
      ]
     },
     "metadata": {
      "needs_background": "light"
     },
     "output_type": "display_data"
    },
    {
     "data": {
      "text/html": [
       "<div>\n",
       "<style scoped>\n",
       "    .dataframe tbody tr th:only-of-type {\n",
       "        vertical-align: middle;\n",
       "    }\n",
       "\n",
       "    .dataframe tbody tr th {\n",
       "        vertical-align: top;\n",
       "    }\n",
       "\n",
       "    .dataframe thead th {\n",
       "        text-align: right;\n",
       "    }\n",
       "</style>\n",
       "<table border=\"1\" class=\"dataframe\">\n",
       "  <thead>\n",
       "    <tr style=\"text-align: right;\">\n",
       "      <th></th>\n",
       "      <th>L</th>\n",
       "      <th>2</th>\n",
       "      <th>3</th>\n",
       "      <th>4</th>\n",
       "      <th>H</th>\n",
       "      <th>Non R&amp;D</th>\n",
       "    </tr>\n",
       "  </thead>\n",
       "  <tbody>\n",
       "    <tr>\n",
       "      <th>Full period</th>\n",
       "      <td>1.065468</td>\n",
       "      <td>1.058800</td>\n",
       "      <td>1.117171</td>\n",
       "      <td>1.076679</td>\n",
       "      <td>1.219703</td>\n",
       "      <td>0.812153</td>\n",
       "    </tr>\n",
       "    <tr>\n",
       "      <th>Pre 2000</th>\n",
       "      <td>0.741073</td>\n",
       "      <td>0.722854</td>\n",
       "      <td>0.787763</td>\n",
       "      <td>0.799914</td>\n",
       "      <td>0.800187</td>\n",
       "      <td>0.538329</td>\n",
       "    </tr>\n",
       "    <tr>\n",
       "      <th>Post 2000</th>\n",
       "      <td>1.429307</td>\n",
       "      <td>1.439738</td>\n",
       "      <td>1.492186</td>\n",
       "      <td>1.394728</td>\n",
       "      <td>1.718189</td>\n",
       "      <td>1.213306</td>\n",
       "    </tr>\n",
       "    <tr>\n",
       "      <th>Full Through Dec 2021</th>\n",
       "      <td>1.312269</td>\n",
       "      <td>1.319139</td>\n",
       "      <td>1.373333</td>\n",
       "      <td>1.535909</td>\n",
       "      <td>2.804543</td>\n",
       "      <td>1.068340</td>\n",
       "    </tr>\n",
       "  </tbody>\n",
       "</table>\n",
       "</div>"
      ],
      "text/plain": [
       "                              L         2         3         4         H  \\\n",
       "Full period            1.065468  1.058800  1.117171  1.076679  1.219703   \n",
       "Pre 2000               0.741073  0.722854  0.787763  0.799914  0.800187   \n",
       "Post 2000              1.429307  1.439738  1.492186  1.394728  1.718189   \n",
       "Full Through Dec 2021  1.312269  1.319139  1.373333  1.535909  2.804543   \n",
       "\n",
       "                        Non R&D  \n",
       "Full period            0.812153  \n",
       "Pre 2000               0.538329  \n",
       "Post 2000              1.213306  \n",
       "Full Through Dec 2021  1.068340  "
      ]
     },
     "execution_count": 40,
     "metadata": {},
     "output_type": "execute_result"
    }
   ],
   "source": [
    "get_avg_stat(value_wo_1000_stocks_w_bins, \"Turnover\")"
   ]
  },
  {
   "cell_type": "code",
   "execution_count": 41,
   "metadata": {},
   "outputs": [],
   "source": [
    "value_wo_1000_period_betas = get_factor_betas(value_wo_1000_monthly_returns, fama_french)\n",
    "full_period_betas, pre_2000_betas, post_2000_betas, extended_betas = value_wo_1000_period_betas"
   ]
  },
  {
   "cell_type": "code",
   "execution_count": 42,
   "metadata": {},
   "outputs": [
    {
     "data": {
      "image/png": "[encoded data removed]",
      "text/plain": [
       "<Figure size 864x648 with 4 Axes>"
      ]
     },
     "metadata": {
      "needs_background": "light"
     },
     "output_type": "display_data"
    },
    {
     "data": {
      "text/html": [
       "<div>\n",
       "<style scoped>\n",
       "    .dataframe tbody tr th:only-of-type {\n",
       "        vertical-align: middle;\n",
       "    }\n",
       "\n",
       "    .dataframe tbody tr th {\n",
       "        vertical-align: top;\n",
       "    }\n",
       "\n",
       "    .dataframe thead th {\n",
       "        text-align: right;\n",
       "    }\n",
       "</style>\n",
       "<table border=\"1\" class=\"dataframe\">\n",
       "  <thead>\n",
       "    <tr style=\"text-align: right;\">\n",
       "      <th></th>\n",
       "      <th>L</th>\n",
       "      <th>2</th>\n",
       "      <th>3</th>\n",
       "      <th>4</th>\n",
       "      <th>H</th>\n",
       "      <th>Non R&amp;D</th>\n",
       "    </tr>\n",
       "  </thead>\n",
       "  <tbody>\n",
       "    <tr>\n",
       "      <th>Full period</th>\n",
       "      <td>1.025345</td>\n",
       "      <td>1.050919</td>\n",
       "      <td>1.088898</td>\n",
       "      <td>1.186804</td>\n",
       "      <td>1.227167</td>\n",
       "      <td>0.984127</td>\n",
       "    </tr>\n",
       "    <tr>\n",
       "      <th>Pre 2000</th>\n",
       "      <td>0.990329</td>\n",
       "      <td>0.947057</td>\n",
       "      <td>0.987288</td>\n",
       "      <td>1.050825</td>\n",
       "      <td>1.064817</td>\n",
       "      <td>0.905002</td>\n",
       "    </tr>\n",
       "    <tr>\n",
       "      <th>Post 2000</th>\n",
       "      <td>1.061859</td>\n",
       "      <td>1.163503</td>\n",
       "      <td>1.174843</td>\n",
       "      <td>1.321177</td>\n",
       "      <td>1.422747</td>\n",
       "      <td>1.026103</td>\n",
       "    </tr>\n",
       "    <tr>\n",
       "      <th>Full Through Dec 2021</th>\n",
       "      <td>1.025887</td>\n",
       "      <td>1.043633</td>\n",
       "      <td>1.073555</td>\n",
       "      <td>1.175895</td>\n",
       "      <td>1.181517</td>\n",
       "      <td>1.020955</td>\n",
       "    </tr>\n",
       "  </tbody>\n",
       "</table>\n",
       "</div>"
      ],
      "text/plain": [
       "                              L         2         3         4         H  \\\n",
       "Full period            1.025345  1.050919  1.088898  1.186804  1.227167   \n",
       "Pre 2000               0.990329  0.947057  0.987288  1.050825  1.064817   \n",
       "Post 2000              1.061859  1.163503  1.174843  1.321177  1.422747   \n",
       "Full Through Dec 2021  1.025887  1.043633  1.073555  1.175895  1.181517   \n",
       "\n",
       "                        Non R&D  \n",
       "Full period            0.984127  \n",
       "Pre 2000               0.905002  \n",
       "Post 2000              1.026103  \n",
       "Full Through Dec 2021  1.020955  "
      ]
     },
     "execution_count": 42,
     "metadata": {},
     "output_type": "execute_result"
    }
   ],
   "source": [
    "plot_factors(value_wo_1000_period_betas, \"Market\")"
   ]
  },
  {
   "cell_type": "code",
   "execution_count": 43,
   "metadata": {},
   "outputs": [
    {
     "data": {
      "image/png": "[encoded data removed]",
      "text/plain": [
       "<Figure size 864x648 with 4 Axes>"
      ]
     },
     "metadata": {
      "needs_background": "light"
     },
     "output_type": "display_data"
    },
    {
     "data": {
      "text/html": [
       "<div>\n",
       "<style scoped>\n",
       "    .dataframe tbody tr th:only-of-type {\n",
       "        vertical-align: middle;\n",
       "    }\n",
       "\n",
       "    .dataframe tbody tr th {\n",
       "        vertical-align: top;\n",
       "    }\n",
       "\n",
       "    .dataframe thead th {\n",
       "        text-align: right;\n",
       "    }\n",
       "</style>\n",
       "<table border=\"1\" class=\"dataframe\">\n",
       "  <thead>\n",
       "    <tr style=\"text-align: right;\">\n",
       "      <th></th>\n",
       "      <th>L</th>\n",
       "      <th>2</th>\n",
       "      <th>3</th>\n",
       "      <th>4</th>\n",
       "      <th>H</th>\n",
       "      <th>Non R&amp;D</th>\n",
       "    </tr>\n",
       "  </thead>\n",
       "  <tbody>\n",
       "    <tr>\n",
       "      <th>Full period</th>\n",
       "      <td>0.946929</td>\n",
       "      <td>1.098351</td>\n",
       "      <td>1.305221</td>\n",
       "      <td>1.423559</td>\n",
       "      <td>1.720652</td>\n",
       "      <td>0.817083</td>\n",
       "    </tr>\n",
       "    <tr>\n",
       "      <th>Pre 2000</th>\n",
       "      <td>1.049743</td>\n",
       "      <td>1.102998</td>\n",
       "      <td>1.232769</td>\n",
       "      <td>1.245994</td>\n",
       "      <td>1.621676</td>\n",
       "      <td>0.907295</td>\n",
       "    </tr>\n",
       "    <tr>\n",
       "      <th>Post 2000</th>\n",
       "      <td>0.839998</td>\n",
       "      <td>1.040926</td>\n",
       "      <td>1.327474</td>\n",
       "      <td>1.504814</td>\n",
       "      <td>1.715138</td>\n",
       "      <td>0.710057</td>\n",
       "    </tr>\n",
       "    <tr>\n",
       "      <th>Full Through Dec 2021</th>\n",
       "      <td>0.959392</td>\n",
       "      <td>1.126633</td>\n",
       "      <td>1.309135</td>\n",
       "      <td>1.424313</td>\n",
       "      <td>1.707082</td>\n",
       "      <td>0.841224</td>\n",
       "    </tr>\n",
       "  </tbody>\n",
       "</table>\n",
       "</div>"
      ],
      "text/plain": [
       "                              L         2         3         4         H  \\\n",
       "Full period            0.946929  1.098351  1.305221  1.423559  1.720652   \n",
       "Pre 2000               1.049743  1.102998  1.232769  1.245994  1.621676   \n",
       "Post 2000              0.839998  1.040926  1.327474  1.504814  1.715138   \n",
       "Full Through Dec 2021  0.959392  1.126633  1.309135  1.424313  1.707082   \n",
       "\n",
       "                        Non R&D  \n",
       "Full period            0.817083  \n",
       "Pre 2000               0.907295  \n",
       "Post 2000              0.710057  \n",
       "Full Through Dec 2021  0.841224  "
      ]
     },
     "execution_count": 43,
     "metadata": {},
     "output_type": "execute_result"
    }
   ],
   "source": [
    "plot_factors(value_wo_1000_period_betas, \"Size\")"
   ]
  },
  {
   "cell_type": "code",
   "execution_count": 44,
   "metadata": {},
   "outputs": [
    {
     "data": {
      "image/png": "[encoded data removed]",
      "text/plain": [
       "<Figure size 864x648 with 4 Axes>"
      ]
     },
     "metadata": {
      "needs_background": "light"
     },
     "output_type": "display_data"
    },
    {
     "data": {
      "text/html": [
       "<div>\n",
       "<style scoped>\n",
       "    .dataframe tbody tr th:only-of-type {\n",
       "        vertical-align: middle;\n",
       "    }\n",
       "\n",
       "    .dataframe tbody tr th {\n",
       "        vertical-align: top;\n",
       "    }\n",
       "\n",
       "    .dataframe thead th {\n",
       "        text-align: right;\n",
       "    }\n",
       "</style>\n",
       "<table border=\"1\" class=\"dataframe\">\n",
       "  <thead>\n",
       "    <tr style=\"text-align: right;\">\n",
       "      <th></th>\n",
       "      <th>L</th>\n",
       "      <th>2</th>\n",
       "      <th>3</th>\n",
       "      <th>4</th>\n",
       "      <th>H</th>\n",
       "      <th>Non R&amp;D</th>\n",
       "    </tr>\n",
       "  </thead>\n",
       "  <tbody>\n",
       "    <tr>\n",
       "      <th>Full period</th>\n",
       "      <td>0.125559</td>\n",
       "      <td>0.053287</td>\n",
       "      <td>0.045277</td>\n",
       "      <td>0.070735</td>\n",
       "      <td>0.099514</td>\n",
       "      <td>0.620961</td>\n",
       "    </tr>\n",
       "    <tr>\n",
       "      <th>Pre 2000</th>\n",
       "      <td>0.060309</td>\n",
       "      <td>0.006769</td>\n",
       "      <td>-0.086380</td>\n",
       "      <td>-0.061619</td>\n",
       "      <td>-0.000898</td>\n",
       "      <td>0.398615</td>\n",
       "    </tr>\n",
       "    <tr>\n",
       "      <th>Post 2000</th>\n",
       "      <td>0.146942</td>\n",
       "      <td>0.025294</td>\n",
       "      <td>0.068084</td>\n",
       "      <td>0.055855</td>\n",
       "      <td>0.019341</td>\n",
       "      <td>0.737638</td>\n",
       "    </tr>\n",
       "    <tr>\n",
       "      <th>Full Through Dec 2021</th>\n",
       "      <td>0.145682</td>\n",
       "      <td>0.068412</td>\n",
       "      <td>0.010390</td>\n",
       "      <td>0.015503</td>\n",
       "      <td>0.034308</td>\n",
       "      <td>0.636854</td>\n",
       "    </tr>\n",
       "  </tbody>\n",
       "</table>\n",
       "</div>"
      ],
      "text/plain": [
       "                              L         2         3         4         H  \\\n",
       "Full period            0.125559  0.053287  0.045277  0.070735  0.099514   \n",
       "Pre 2000               0.060309  0.006769 -0.086380 -0.061619 -0.000898   \n",
       "Post 2000              0.146942  0.025294  0.068084  0.055855  0.019341   \n",
       "Full Through Dec 2021  0.145682  0.068412  0.010390  0.015503  0.034308   \n",
       "\n",
       "                        Non R&D  \n",
       "Full period            0.620961  \n",
       "Pre 2000               0.398615  \n",
       "Post 2000              0.737638  \n",
       "Full Through Dec 2021  0.636854  "
      ]
     },
     "execution_count": 44,
     "metadata": {},
     "output_type": "execute_result"
    }
   ],
   "source": [
    "plot_factors(value_wo_1000_period_betas, \"Value\")"
   ]
  },
  {
   "cell_type": "code",
   "execution_count": null,
   "metadata": {},
   "outputs": [],
   "source": []
  }
 ],
 "metadata": {
  "kernelspec": {
   "display_name": "Python 3.9.12 64-bit ('anaconda3')",
   "language": "python",
   "name": "python3"
  },
  "language_info": {
   "codemirror_mode": {
    "name": "ipython",
    "version": 3
   },
   "file_extension": ".py",
   "mimetype": "text/x-python",
   "name": "python",
   "nbconvert_exporter": "python",
   "pygments_lexer": "ipython3",
   "version": "3.9.12"
  },
  "orig_nbformat": 4,
  "vscode": {
   "interpreter": {
    "hash": "40d3a090f54c6569ab1632332b64b2c03c39dcf918b08424e98f38b5ae0af88f"
   }
  }
 },
 "nbformat": 4,
 "nbformat_minor": 2
}
